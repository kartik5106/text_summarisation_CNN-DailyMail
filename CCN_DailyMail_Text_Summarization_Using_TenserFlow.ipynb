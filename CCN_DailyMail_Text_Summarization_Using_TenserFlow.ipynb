{
  "nbformat": 4,
  "nbformat_minor": 0,
  "metadata": {
    "colab": {
      "provenance": [],
      "toc_visible": true
    },
    "kernelspec": {
      "name": "python3",
      "display_name": "Python 3"
    },
    "language_info": {
      "name": "python"
    },
    "accelerator": "GPU",
    "gpuClass": "standard"
  },
  "cells": [
    {
      "cell_type": "markdown",
      "source": [
        "#importing neccesary libraries\n",
        "these are some of the libraries we we be importing others whenever neccesary."
      ],
      "metadata": {
        "id": "w5is-hKYLgUL"
      }
    },
    {
      "cell_type": "code",
      "source": [
        "import pandas as pd\n",
        "import numpy as np\n",
        "import warnings\n",
        "warnings.filterwarnings('ignore')"
      ],
      "metadata": {
        "id": "2IN4HQVmLd0x"
      },
      "execution_count": null,
      "outputs": []
    },
    {
      "cell_type": "markdown",
      "source": [
        "#Sample data for testing\n",
        "\n",
        "data=\"Microsoft chairman bill gates late wednesday unveiled his vision of the digital lifestyle , outlining the latest version of his windows operating system to be launched later this year\""
      ],
      "metadata": {
        "id": "GrPpynH3KwPp"
      }
    },
    {
      "cell_type": "code",
      "source": [
        "data=\"<body>Microsoft chairman bill gates late wednesday unveiled his vision of the digital lifestyle \""
      ],
      "metadata": {
        "id": "3qikSIyjK92d"
      },
      "execution_count": null,
      "outputs": []
    },
    {
      "cell_type": "markdown",
      "source": [
        "#Text preprocessing:\n",
        "cleaning the data and converting it into readable format."
      ],
      "metadata": {
        "id": "c0YFHDaULEha"
      }
    },
    {
      "cell_type": "markdown",
      "source": [
        "converting to lower case"
      ],
      "metadata": {
        "id": "1JcwElBqMW6K"
      }
    },
    {
      "cell_type": "code",
      "source": [
        "data = data.lower()\n",
        "print(data)"
      ],
      "metadata": {
        "id": "xoyT_GQ1MRFN",
        "colab": {
          "base_uri": "https://localhost:8080/"
        },
        "outputId": "ece9627f-a64b-4eb1-e4b3-e5269b141dbe"
      },
      "execution_count": null,
      "outputs": [
        {
          "output_type": "stream",
          "name": "stdout",
          "text": [
            "<body>microsoft chairman bill gates late wednesday unveiled his vision of the digital lifestyle \n"
          ]
        }
      ]
    },
    {
      "cell_type": "markdown",
      "source": [
        "Removing html tags (if any)"
      ],
      "metadata": {
        "id": "kVaLFQ6zMo3n"
      }
    },
    {
      "cell_type": "code",
      "source": [
        "!pip install bs4\n",
        "from bs4 import BeautifulSoup\n",
        "#creating all function so that we can use them later on in one place\n",
        "def removehtml(data) :\n",
        "    soup = BeautifulSoup(data,'lxml')\n",
        "    data = soup.get_text()\n",
        "    return data\n",
        "print(removehtml(data))\n",
        "data=removehtml(data)\n"
      ],
      "metadata": {
        "id": "gp3FFCwtLA5d",
        "colab": {
          "base_uri": "https://localhost:8080/"
        },
        "outputId": "928c9a67-a16c-4eb3-a773-1f7481ebcf7a"
      },
      "execution_count": null,
      "outputs": [
        {
          "output_type": "stream",
          "name": "stdout",
          "text": [
            "Looking in indexes: https://pypi.org/simple, https://us-python.pkg.dev/colab-wheels/public/simple/\n",
            "Requirement already satisfied: bs4 in /usr/local/lib/python3.10/dist-packages (0.0.1)\n",
            "Requirement already satisfied: beautifulsoup4 in /usr/local/lib/python3.10/dist-packages (from bs4) (4.11.2)\n",
            "Requirement already satisfied: soupsieve>1.2 in /usr/local/lib/python3.10/dist-packages (from beautifulsoup4->bs4) (2.4.1)\n",
            "microsoft chairman bill gates late wednesday unveiled his vision of the digital lifestyle \n"
          ]
        }
      ]
    },
    {
      "cell_type": "markdown",
      "source": [
        "Remaining preprocessing on the text"
      ],
      "metadata": {
        "id": "38kjcDyxRWmh"
      }
    },
    {
      "cell_type": "code",
      "source": [
        "import nltk\n",
        "import re\n",
        "nltk.download('stopwords')\n",
        "from nltk.corpus import stopwords\n",
        "from nltk.tokenize import word_tokenize\n",
        "!pip install contractions\n"
      ],
      "metadata": {
        "id": "Gljoc5AiRxBu",
        "colab": {
          "base_uri": "https://localhost:8080/"
        },
        "outputId": "2da50307-2c68-431f-b487-84c859b46f14"
      },
      "execution_count": null,
      "outputs": [
        {
          "output_type": "stream",
          "name": "stderr",
          "text": [
            "[nltk_data] Downloading package stopwords to /root/nltk_data...\n",
            "[nltk_data]   Package stopwords is already up-to-date!\n"
          ]
        },
        {
          "output_type": "stream",
          "name": "stdout",
          "text": [
            "Looking in indexes: https://pypi.org/simple, https://us-python.pkg.dev/colab-wheels/public/simple/\n",
            "Requirement already satisfied: contractions in /usr/local/lib/python3.10/dist-packages (0.1.73)\n",
            "Requirement already satisfied: textsearch>=0.0.21 in /usr/local/lib/python3.10/dist-packages (from contractions) (0.0.24)\n",
            "Requirement already satisfied: anyascii in /usr/local/lib/python3.10/dist-packages (from textsearch>=0.0.21->contractions) (0.3.2)\n",
            "Requirement already satisfied: pyahocorasick in /usr/local/lib/python3.10/dist-packages (from textsearch>=0.0.21->contractions) (2.0.0)\n"
          ]
        }
      ]
    },
    {
      "cell_type": "markdown",
      "source": [
        "#Expanding Contractions\n",
        "this part is to expand the contractions like \"i'd\" to \"i would\" or \"i'll\" to i will,i have decided to use the library contraction rather than mapping each contraction as its more accurate. \n",
        "references:https://www.geeksforgeeks.org/nlp-expand-contractions-in-text-processing/\n"
      ],
      "metadata": {
        "id": "XsC9HVwmThOz"
      }
    },
    {
      "cell_type": "code",
      "source": [
        "import contractions\n",
        "data = \"I'll be there within five min. Shouldn't you be there too? I'd love to see u there my dear. It's awesome to meet new friends.We've been waiting for this day for so long\"\n",
        "print(\"data before : \\n\")\n",
        "print(data)\n",
        "data=contractions.fix(data)\n",
        "print(\"\\ndata after expanding the contractions :\\n \")\n",
        "print(data)\n",
        "def expandContractions(text):\n",
        "  text=contractions.fix(text)\n",
        "  return text"
      ],
      "metadata": {
        "id": "C4UzFR4jVf_3",
        "colab": {
          "base_uri": "https://localhost:8080/"
        },
        "outputId": "85c1fd79-324b-4ca0-e66c-806bb7b9e048"
      },
      "execution_count": null,
      "outputs": [
        {
          "output_type": "stream",
          "name": "stdout",
          "text": [
            "data before : \n",
            "\n",
            "I'll be there within five min. Shouldn't you be there too? I'd love to see u there my dear. It's awesome to meet new friends.We've been waiting for this day for so long\n",
            "\n",
            "data after expanding the contractions :\n",
            " \n",
            "I will be there within five min. Should not you be there too? I would love to see you there my dear. It is awesome to meet new friends.We have been waiting for this day for so long\n"
          ]
        }
      ]
    },
    {
      "cell_type": "code",
      "source": [
        "data = \"I'll be there within five min. Shouldn't you be there too? I'd love to see u there my dear. It's awesome to meet new friends.We've been waiting for this day for so long\"\n",
        "print(\"Data before : \\n\")\n",
        "print(data)\n",
        "StopWords = set(stopwords.words('english'))#setting all stopwords\n",
        "#final function before to preprocess. \n",
        "def preprocess_text(text):\n",
        "    text = text.lower() #converting input to lowercase\n",
        "    text = removehtml(text) #removing html tags\n",
        "    text = expandContractions(text) #expanding contractions \n",
        "    text = re.sub(r'\\([^)]*\\)', '', text) #Removing punctuations and special characters.\n",
        "    text = re.sub('\"','', text) #Removing double quotes.  \n",
        "    text = re.sub(r\"'s\\b\",\"\",text) #Eliminating apostrophe.\n",
        "    text = re.sub(\"[^a-zA-Z]\", \" \", text) #Removing non-alphabetical characters\n",
        "    text = ' '.join([word for word in text.split() if word not in StopWords]) #Removing stopwords.\n",
        "    text = ' '.join([word for word in text.split() if len(word) >= 3]) #Removing very short words\n",
        "    return text\n",
        "print(\"\\nData after preproccesing :\\n\")\n",
        "print(preprocess_text(data))"
      ],
      "metadata": {
        "id": "QWfOW0PzRfeu",
        "colab": {
          "base_uri": "https://localhost:8080/"
        },
        "outputId": "1f690efa-f72d-476d-ff1d-1efe4c5ec93e"
      },
      "execution_count": null,
      "outputs": [
        {
          "output_type": "stream",
          "name": "stdout",
          "text": [
            "Data before : \n",
            "\n",
            "I'll be there within five min. Shouldn't you be there too? I'd love to see u there my dear. It's awesome to meet new friends.We've been waiting for this day for so long\n",
            "\n",
            "Data after preproccesing :\n",
            "\n",
            "within five min would love see dear awesome meet new friends waiting day long\n"
          ]
        }
      ]
    },
    {
      "cell_type": "code",
      "source": [
        "data= preprocess_text(data)\n",
        "tokens=data.split()\n",
        "print(tokens)"
      ],
      "metadata": {
        "id": "QoyVhOyQKfIe",
        "colab": {
          "base_uri": "https://localhost:8080/"
        },
        "outputId": "1f2be2d4-1bed-40fb-b03f-696acb8604fd"
      },
      "execution_count": null,
      "outputs": [
        {
          "output_type": "stream",
          "name": "stdout",
          "text": [
            "['within', 'five', 'min', 'would', 'love', 'see', 'dear', 'awesome', 'meet', 'new', 'friends', 'waiting', 'day', 'long']\n"
          ]
        }
      ]
    },
    {
      "cell_type": "markdown",
      "source": [
        "#Summary cleaner\n",
        "very similar to text cleaner with some minor modifications "
      ],
      "metadata": {
        "id": "1Zs4C_IkTWvV"
      }
    },
    {
      "cell_type": "code",
      "source": [
        "def preprocess_summary(text):\n",
        "    text = text.lower() #converting input to lowercase\n",
        "    text = removehtml(text) #removing html tags\n",
        "    text = expandContractions(text) #expanding contractions \n",
        "    text = re.sub(r'\\([^)]*\\)', '', text) #Removing punctuations and special characters.\n",
        "    text = re.sub('\"','', text) #Removing double quotes.  \n",
        "    text = re.sub(r\"'s\\b\",\"\",text) #Eliminating apostrophe.\n",
        "    text = re.sub(\"[^a-zA-Z]\", \" \", text) #Removing non-alphabetical characters\n",
        "    text = ' '.join([word for word in text.split() if word not in StopWords]) #Removing stopwords.\n",
        "    text = ' '.join([word for word in text.split() if len(word) >= 3]) #Removing very short words\n",
        "    return text"
      ],
      "metadata": {
        "id": "Last0O-NTVjy"
      },
      "execution_count": null,
      "outputs": []
    },
    {
      "cell_type": "markdown",
      "source": [
        "#Data set used \n",
        "here we are using a data set of CNN daily mail data set, in particular i am using the test.csv(49 MB) that contains around 11k instances of data ,i am splitting this data to train and also to test,\n",
        "source=\"https://www.kaggle.com/datasets/gowrishankarp/newspaper-text-summarization-cnn-dailymail\" "
      ],
      "metadata": {
        "id": "E7um12rqUTBD"
      }
    },
    {
      "cell_type": "code",
      "source": [
        "!pip install pandas\n",
        "import pandas as pd\n",
        "data = pd.read_csv('test.csv',nrows=1000)\n",
        "print(data)"
      ],
      "metadata": {
        "id": "mRjYusHVUQpc",
        "colab": {
          "base_uri": "https://localhost:8080/"
        },
        "outputId": "8d66fc02-94d6-499a-d484-5e27b8f77b5b"
      },
      "execution_count": null,
      "outputs": [
        {
          "output_type": "stream",
          "name": "stdout",
          "text": [
            "Looking in indexes: https://pypi.org/simple, https://us-python.pkg.dev/colab-wheels/public/simple/\n",
            "Requirement already satisfied: pandas in /usr/local/lib/python3.10/dist-packages (1.5.3)\n",
            "Requirement already satisfied: python-dateutil>=2.8.1 in /usr/local/lib/python3.10/dist-packages (from pandas) (2.8.2)\n",
            "Requirement already satisfied: pytz>=2020.1 in /usr/local/lib/python3.10/dist-packages (from pandas) (2022.7.1)\n",
            "Requirement already satisfied: numpy>=1.21.0 in /usr/local/lib/python3.10/dist-packages (from pandas) (1.22.4)\n",
            "Requirement already satisfied: six>=1.5 in /usr/local/lib/python3.10/dist-packages (from python-dateutil>=2.8.1->pandas) (1.16.0)\n",
            "                                           id  \\\n",
            "0    92c514c913c0bdfe25341af9fd72b29db544099b   \n",
            "1    2003841c7dc0e7c5b1a248f9cd536d727f27a45a   \n",
            "2    91b7d2311527f5c2b63a65ca98d21d9c92485149   \n",
            "3    caabf9cbdf96eb1410295a673e953d304391bfbb   \n",
            "4    3da746a7d9afcaa659088c8366ef6347fe6b53ea   \n",
            "..                                        ...   \n",
            "995  b8504230c7647905078698183f2dda0ce11b8182   \n",
            "996  8f87f30d3cd9eb25ca0759e0dad11befce3f898c   \n",
            "997  788350d50e6858fddaf1095b9ac026d82fae79c1   \n",
            "998  76faa51c29068226495bdaf2d928f176e7d3b8f5   \n",
            "999  594fb7e9ef4a593d8d13807cfeabd6c5c3253a07   \n",
            "\n",
            "                                               article  \\\n",
            "0    Ever noticed how plane seats appear to be gett...   \n",
            "1    A drunk teenage boy had to be rescued by secur...   \n",
            "2    Dougie Freedman is on the verge of agreeing a ...   \n",
            "3    Liverpool target Neto is also wanted by PSG an...   \n",
            "4    Bruce Jenner will break his silence in a two-h...   \n",
            "..                                                 ...   \n",
            "995  Women travelling on the London Underground are...   \n",
            "996  Millions of devout Christians around the world...   \n",
            "997  Floyd Mayweather and Manny Pacquiao may only b...   \n",
            "998  Nigel Farage suffered a fresh blow today after...   \n",
            "999  More than 140 children have been removed from ...   \n",
            "\n",
            "                                            highlights  \n",
            "0    Experts question if  packed out planes are put...  \n",
            "1    Drunk teenage boy climbed into lion enclosure ...  \n",
            "2    Nottingham Forest are close to extending Dougi...  \n",
            "3    Fiorentina goalkeeper Neto has been linked wit...  \n",
            "4    Tell-all interview with the reality TV star, 6...  \n",
            "..                                                 ...  \n",
            "995  Transport for London used actors in the uncomf...  \n",
            "996  WARNING: GRAPHIC CONTENT .\\nThe week-long fest...  \n",
            "997  Floyd Mayweather and Manny Pacquiao fight in L...  \n",
            "998  ComRes survey for ITV shows Ukip falling behin...  \n",
            "999  Pupils in Spokane, Washington, were removed fr...  \n",
            "\n",
            "[1000 rows x 3 columns]\n"
          ]
        }
      ]
    },
    {
      "cell_type": "markdown",
      "source": [
        "#Data info\n",
        "we use the function .info() to get the details of the dataframe,i.e no_rows ,no_colums, all the columns,datatype in each column etc.\n",
        "this helps in manipulating the data easily"
      ],
      "metadata": {
        "id": "p6jJlC6xWbBn"
      }
    },
    {
      "cell_type": "code",
      "source": [
        "print(data.info())"
      ],
      "metadata": {
        "id": "CEX9GD7xW-io",
        "colab": {
          "base_uri": "https://localhost:8080/"
        },
        "outputId": "3233c696-42af-4699-fcdf-7eeda67b31b3"
      },
      "execution_count": null,
      "outputs": [
        {
          "output_type": "stream",
          "name": "stdout",
          "text": [
            "<class 'pandas.core.frame.DataFrame'>\n",
            "RangeIndex: 1000 entries, 0 to 999\n",
            "Data columns (total 3 columns):\n",
            " #   Column      Non-Null Count  Dtype \n",
            "---  ------      --------------  ----- \n",
            " 0   id          1000 non-null   object\n",
            " 1   article     1000 non-null   object\n",
            " 2   highlights  1000 non-null   object\n",
            "dtypes: object(3)\n",
            "memory usage: 23.6+ KB\n",
            "None\n"
          ]
        }
      ]
    },
    {
      "cell_type": "markdown",
      "source": [
        "As you can see there are three columns pertaining to id,article,highlights we as going to use article as the text and the highlights as summary. "
      ],
      "metadata": {
        "id": "jUvFXjL5XDHq"
      }
    },
    {
      "cell_type": "markdown",
      "source": [
        "# Cleaning the data (preprocessing)\n",
        "since we have already defined functions for this ,we are just going to implement them and store it in two lists ,cleaned_text and cleaned_summary."
      ],
      "metadata": {
        "id": "gigXkgkCYBNR"
      }
    },
    {
      "cell_type": "code",
      "source": [
        "cleaned_text = []\n",
        "for t in data['article']:\n",
        "    cleaned_text.append(preprocess_text(t))\n",
        "#to check if its working properly\n",
        "print(cleaned_text[:2])\n",
        "\n",
        "cleaned_summary = []\n",
        "\n",
        "for t in data['highlights']:\n",
        "  cleaned_summary.append(preprocess_summary(t))\n",
        "\n",
        "#to check if its working properly\n",
        "print(cleaned_summary[:2])\n",
        "\n"
      ],
      "metadata": {
        "id": "of_aVdkqYdKG",
        "colab": {
          "base_uri": "https://localhost:8080/"
        },
        "outputId": "12929141-75aa-4dc4-86b2-02255d4556d7"
      },
      "execution_count": null,
      "outputs": [
        {
          "output_type": "stream",
          "name": "stdout",
          "text": [
            "['ever noticed plane seats appear getting smaller smaller increasing numbers people taking skies experts questioning packed planes putting passengers risk say shrinking space aeroplanes uncomfortable putting health safety danger squabbling arm rest shrinking space planes putting health safety danger week consumer advisory group set department transportation said public hearing government happy set standards animals flying planes stipulate minimum amount space humans world animals rights space food humans said charlie leocha consumer representative committee time dot faa take stand humane treatment passengers could crowding planes lead serious issues fighting space overhead lockers crashing elbows seat back kicking tests conducted faa use planes inch pitch standard airlines decreased many economy seats united airlines inches room airlines offer little inches cynthia corbertt human factors researcher federal aviation administration conducts tests quickly passengers leave plane tests conducted using planes inches row seats standard airlines decreased reported detroit news distance two seats one point seat point seat behind known pitch airlines stick pitch inches fall united airlines inches space gulf air economy seats inches air asia offers inches spirit airlines offers inches british airways seat pitch inches easyjet inches thomson short haul seat pitch inches virgin atlantic', 'drunk teenage boy rescued security jumping lions enclosure zoo western india rahul kumar clambered enclosure fence kamla nehru zoological park ahmedabad began running towards animals shouting would kill kumar explained afterwards drunk thought would stand good chance predators next level drunk intoxicated rahul kumar climbed lions enclosure zoo ahmedabad began running towards animals shouting today kill lion kumar sitting near enclosure suddenly made dash lions surprising zoo security intoxicated teenager ran towards lions shouting today kill lion lion kills zoo spokesman said guards earlier spotted close enclosure idea planing enter fortunately eight moats cross getting lions usually fell second one allowing guards catch take handed police brave fool fortunately kumar fell moat ran towards lions could rescued zoo security staff reaching animals kumar later explained really know drunk thought would stand good chance police spokesman said cautioned sent psychiatric evaluation fortunately lions asleep zoo guards acted quickly enough prevent tragedy similar delhi last year year old man mauled death tiger indian capital climbing enclosure city zoo']\n",
            "['experts question packed planes putting passengers risk consumer advisory group says minimum space must stipulated safety tests conducted planes leg room airlines offer', 'drunk teenage boy climbed lion enclosure zoo west india rahul kumar ran towards animals shouting today kill lion fortunately fell moat reaching lions rescued']\n"
          ]
        }
      ]
    },
    {
      "cell_type": "markdown",
      "source": [
        "Adding the data into dataframe"
      ],
      "metadata": {
        "id": "gVLcmMyHVN4o"
      }
    },
    {
      "cell_type": "code",
      "source": [
        "data['cleaned_text']=cleaned_text\n",
        "data['cleaned_summary']=cleaned_summary"
      ],
      "metadata": {
        "id": "zjKdw7lO3X9V"
      },
      "execution_count": null,
      "outputs": []
    },
    {
      "cell_type": "markdown",
      "source": [
        "#Setting up max limits for the summary and article\n",
        "setting up limits to the data and adding it back to the dataframe \"data\"  we are approximating the max_length of the summaries and the text\n",
        "i have chosen this max text length as 250 even though average length is 750 as my model was taking a lot of time to train "
      ],
      "metadata": {
        "id": "otPFRcfmf-5C"
      }
    },
    {
      "cell_type": "code",
      "source": [
        "max_text_len=250\n",
        "max_summary_len=50"
      ],
      "metadata": {
        "id": "vOMbOEvYfzCT"
      },
      "execution_count": null,
      "outputs": []
    },
    {
      "cell_type": "markdown",
      "source": [
        "Remove empty data"
      ],
      "metadata": {
        "id": "HlaEXHry59h5"
      }
    },
    {
      "cell_type": "code",
      "source": [
        "data.replace('', np.nan, inplace=True)\n",
        "data.dropna(axis=0,inplace=True)"
      ],
      "metadata": {
        "id": "hzqjqBdU3FT-"
      },
      "execution_count": null,
      "outputs": []
    },
    {
      "cell_type": "code",
      "source": [
        "# converting to arrays using numpy for further use as the arguments of many functions prefer arrays\n",
        "#also to use for loops we need to convert it into array\n",
        "cleaned_text =np.array(data['cleaned_text'])\n",
        "cleaned_summary=np.array(data['cleaned_summary'])\n",
        "\n",
        "\n",
        "#new temp list with max limits \n",
        "temp_text=[]\n",
        "temp_summary=[]\n",
        "\n",
        "for i in range(len(cleaned_text)):\n",
        "    if( len(cleaned_text[i].split())<=max_text_len  and len(cleaned_summary[i].split())<=max_summary_len):\n",
        "        temp_text.append(cleaned_text[i])\n",
        "        temp_summary.append(cleaned_summary[i])\n",
        "        \n",
        "df=pd.DataFrame({'text':temp_text,'summary':temp_summary})"
      ],
      "metadata": {
        "id": "Q7Sfop-RtOCt"
      },
      "execution_count": null,
      "outputs": []
    },
    {
      "cell_type": "markdown",
      "source": [
        "adding start and end tags in summary ,these tokens can never come in the articles i am using \"sostok\" and \"eostok\" ,i am using these phrases as they arent real english words"
      ],
      "metadata": {
        "id": "jiDbXlSyuiuv"
      }
    },
    {
      "cell_type": "code",
      "source": [
        "df['summary'] = df['summary'].apply(lambda x : 'sostok '+ x + ' eostok')"
      ],
      "metadata": {
        "id": "KQjVEFbt2qwl"
      },
      "execution_count": null,
      "outputs": []
    },
    {
      "cell_type": "markdown",
      "source": [
        "#splitting the data\n",
        "Splitting the data into 80% to 20% i.e 80% for training ,20% for testing\n",
        "i have used train_test_split from the library sklearn.model_selection\n",
        "random state = 0 this will divide the code in the same way each time important for code reproducibility.  "
      ],
      "metadata": {
        "id": "2UxqDKsuvGPN"
      }
    },
    {
      "cell_type": "code",
      "source": [
        "from sklearn.model_selection import train_test_split\n",
        "x_tr,x_val,y_tr,y_val=train_test_split(np.array(df['text']),np.array(df['summary']),test_size=0.2,random_state=0,shuffle=True) \n"
      ],
      "metadata": {
        "id": "n3tDqKNOv1fh"
      },
      "execution_count": null,
      "outputs": []
    },
    {
      "cell_type": "markdown",
      "source": [
        "#Tokenization\n",
        "builds the vocabulary \n",
        "convert the word into numeric sequences"
      ],
      "metadata": {
        "id": "C_jo5nxHyVBS"
      }
    },
    {
      "cell_type": "code",
      "source": [
        "# i am using keras to implement tokeniser \n",
        "from keras.preprocessing.text import Tokenizer \n",
        "from keras.utils import pad_sequences\n",
        "#prepare a tokenizer for reviews on training data\n",
        "x_tokenizer = Tokenizer() \n",
        "x_tokenizer.fit_on_texts(list(x_tr))\n",
        "\n",
        "thresh=3 #this implies if word appear less than three words then they are rare \n",
        "\n",
        "cnt=0\n",
        "tot_cnt=0\n",
        "freq=0\n",
        "tot_freq=0\n",
        "\n",
        "for key,value in x_tokenizer.word_counts.items():\n",
        "    tot_cnt=tot_cnt+1\n",
        "    tot_freq=tot_freq+value\n",
        "    if(value<thresh):\n",
        "        cnt=cnt+1\n",
        "        freq=freq+value\n",
        "    \n",
        "\n"
      ],
      "metadata": {
        "id": "wugcqLIjz0gS"
      },
      "execution_count": null,
      "outputs": []
    },
    {
      "cell_type": "markdown",
      "source": [
        "creating the library"
      ],
      "metadata": {
        "id": "Tx4g8zFG1dgm"
      }
    },
    {
      "cell_type": "code",
      "source": [
        "#prepare a tokenizer for reviews on training data\n",
        "x_tokenizer = Tokenizer(num_words=tot_cnt-cnt) \n",
        "x_tokenizer.fit_on_texts(list(x_tr))\n",
        "\n",
        "#convert text sequences into integer sequences\n",
        "x_tr_seq    =   x_tokenizer.texts_to_sequences(x_tr) \n",
        "x_val_seq   =   x_tokenizer.texts_to_sequences(x_val)\n",
        "\n",
        "#padding zero upto maximum length\n",
        "x_tr    =   pad_sequences(x_tr_seq,  maxlen=max_text_len, padding='post')\n",
        "x_val   =   pad_sequences(x_val_seq, maxlen=max_text_len, padding='post')\n",
        "\n",
        "#size of vocabulary \n",
        "x_voc   =  x_tokenizer.num_words + 1\n"
      ],
      "metadata": {
        "id": "T4vTRqDB1gYb"
      },
      "execution_count": null,
      "outputs": []
    },
    {
      "cell_type": "code",
      "source": [
        "print(x_voc)#print the number of words in the vocabulary"
      ],
      "metadata": {
        "id": "O36H2R_x1Yax",
        "colab": {
          "base_uri": "https://localhost:8080/"
        },
        "outputId": "70cb2a27-9c58-4ce0-abc3-7e63a04efe75"
      },
      "execution_count": null,
      "outputs": [
        {
          "output_type": "stream",
          "name": "stdout",
          "text": [
            "3675\n"
          ]
        }
      ]
    },
    {
      "cell_type": "markdown",
      "source": [
        "#Summary Tokeniser"
      ],
      "metadata": {
        "id": "BpugSgCN5Jhc"
      }
    },
    {
      "cell_type": "code",
      "source": [
        "#prepare a tokenizer for reviews on training data\n",
        "#very similar to the article \n",
        "y_tokenizer = Tokenizer()   \n",
        "y_tokenizer.fit_on_texts(list(y_tr))\n",
        "\n",
        "\n",
        "\n",
        "thresh=6# less than 6 is rare word,as the data size is less\n",
        "\n",
        "cnt=0\n",
        "tot_cnt=0\n",
        "freq=0\n",
        "tot_freq=0\n",
        "\n",
        "for key,value in y_tokenizer.word_counts.items():\n",
        "    tot_cnt=tot_cnt+1\n",
        "    tot_freq=tot_freq+value\n",
        "    if(value<thresh):\n",
        "        cnt=cnt+1\n",
        "        freq=freq+value\n",
        "    \n",
        "\n",
        "#prepare a tokenizer for reviews on training data\n",
        "y_tokenizer = Tokenizer(num_words=tot_cnt-cnt) \n",
        "y_tokenizer.fit_on_texts(list(y_tr))\n",
        "\n",
        "#convert text sequences into integer sequences\n",
        "y_tr_seq    =   y_tokenizer.texts_to_sequences(y_tr) \n",
        "y_val_seq   =   y_tokenizer.texts_to_sequences(y_val) \n",
        "\n",
        "#padding zero upto maximum length\n",
        "y_tr    =   pad_sequences(y_tr_seq, maxlen=max_summary_len, padding='post')\n",
        "y_val   =   pad_sequences(y_val_seq, maxlen=max_summary_len, padding='post')\n",
        "\n",
        "#size of vocabulary\n",
        "y_voc  =   y_tokenizer.num_words +1\n"
      ],
      "metadata": {
        "id": "CAxfFkAE5C1O"
      },
      "execution_count": null,
      "outputs": []
    },
    {
      "cell_type": "markdown",
      "source": [
        "\n",
        "\n",
        "Here, I am deleting the rows that contain only START and END tokens\n",
        "basically empty columns ,if the data is from verified sources this part is redundant\n"
      ],
      "metadata": {
        "id": "zksXUr_tWstw"
      }
    },
    {
      "cell_type": "code",
      "source": [
        "ind=[]\n",
        "for i in range(len(y_tr)):\n",
        "    cnt=0\n",
        "    for j in y_tr[i]:\n",
        "        if j!=0:\n",
        "            cnt=cnt+1\n",
        "    if(cnt==2):\n",
        "        ind.append(i)\n",
        "\n",
        "y_tr=np.delete(y_tr,ind, axis=0)\n",
        "x_tr=np.delete(x_tr,ind, axis=0)\n",
        "\n",
        "ind=[]\n",
        "for i in range(len(y_val)):\n",
        "    cnt=0\n",
        "    for j in y_val[i]:\n",
        "        if j!=0:\n",
        "            cnt=cnt+1\n",
        "    if(cnt==2):\n",
        "        ind.append(i)\n",
        "\n",
        "y_val=np.delete(y_val,ind, axis=0)\n",
        "x_val=np.delete(x_val,ind, axis=0)\n",
        "\n"
      ],
      "metadata": {
        "id": "YN1yZo7PWtsE"
      },
      "execution_count": null,
      "outputs": []
    },
    {
      "cell_type": "markdown",
      "source": [
        "#Attention Layer \n",
        "\n",
        "Here we are using a already implemented attention layer based on the paper Bahdanau attention (https://arxiv.org/pdf/1409.0473.pdf)\n",
        "source='https://github.com/thushv89/attention_keras/blob/master/src/layers/attention.py'"
      ],
      "metadata": {
        "id": "B2i93o643pET"
      }
    },
    {
      "cell_type": "code",
      "source": [
        "import tensorflow as tf\n",
        "from tensorflow.python.keras import backend as K\n",
        "\n",
        "logger = tf.get_logger()\n",
        "\n",
        "class AttentionLayer(tf.keras.layers.Layer):\n",
        "    \"\"\"\n",
        "    This class implements Bahdanau attention (https://arxiv.org/pdf/1409.0473.pdf).\n",
        "    There are three sets of weights introduced W_a, U_a, and V_a\n",
        "     \"\"\"\n",
        "\n",
        "    def __init__(self, **kwargs):\n",
        "        super(AttentionLayer, self).__init__(**kwargs)\n",
        "\n",
        "    def build(self, input_shape):\n",
        "        assert isinstance(input_shape, list)\n",
        "        # Create a trainable weight variable for this layer.\n",
        "\n",
        "        self.W_a = self.add_weight(name='W_a',\n",
        "                                   shape=tf.TensorShape((input_shape[0][2], input_shape[0][2])),\n",
        "                                   initializer='uniform',\n",
        "                                   trainable=True)\n",
        "        self.U_a = self.add_weight(name='U_a',\n",
        "                                   shape=tf.TensorShape((input_shape[1][2], input_shape[0][2])),\n",
        "                                   initializer='uniform',\n",
        "                                   trainable=True)\n",
        "        self.V_a = self.add_weight(name='V_a',\n",
        "                                   shape=tf.TensorShape((input_shape[0][2], 1)),\n",
        "                                   initializer='uniform',\n",
        "                                   trainable=True)\n",
        "\n",
        "        super(AttentionLayer, self).build(input_shape)  # Be sure to call this at the end\n",
        "\n",
        "    def call(self, inputs):\n",
        "        \"\"\"\n",
        "        inputs: [encoder_output_sequence, decoder_output_sequence]\n",
        "        \"\"\"\n",
        "        assert type(inputs) == list\n",
        "        encoder_out_seq, decoder_out_seq = inputs\n",
        "\n",
        "        logger.debug(f\"encoder_out_seq.shape = {encoder_out_seq.shape}\")\n",
        "        logger.debug(f\"decoder_out_seq.shape = {decoder_out_seq.shape}\")\n",
        "\n",
        "        def energy_step(inputs, states):\n",
        "            \"\"\" Step function for computing energy for a single decoder state\n",
        "            inputs: (batchsize * 1 * de_in_dim)\n",
        "            states: (batchsize * 1 * de_latent_dim)\n",
        "            \"\"\"\n",
        "\n",
        "            logger.debug(\"Running energy computation step\")\n",
        "\n",
        "            if not isinstance(states, (list, tuple)):\n",
        "                raise TypeError(f\"States must be an iterable. Got {states} of type {type(states)}\")\n",
        "\n",
        "            encoder_full_seq = states[-1]\n",
        "\n",
        "            \"\"\" Computing S.Wa where S=[s0, s1, ..., si]\"\"\"\n",
        "            # <= batch size * en_seq_len * latent_dim\n",
        "            W_a_dot_s = K.dot(encoder_full_seq, self.W_a)\n",
        "\n",
        "            \"\"\" Computing hj.Ua \"\"\"\n",
        "            U_a_dot_h = K.expand_dims(K.dot(inputs, self.U_a), 1)  # <= batch_size, 1, latent_dim\n",
        "\n",
        "            logger.debug(f\"U_a_dot_h.shape = {U_a_dot_h.shape}\")\n",
        "\n",
        "            \"\"\" tanh(S.Wa + hj.Ua) \"\"\"\n",
        "            # <= batch_size*en_seq_len, latent_dim\n",
        "            Ws_plus_Uh = K.tanh(W_a_dot_s + U_a_dot_h)\n",
        "\n",
        "            logger.debug(f\"Ws_plus_Uh.shape = {Ws_plus_Uh.shape}\")\n",
        "\n",
        "            \"\"\" softmax(va.tanh(S.Wa + hj.Ua)) \"\"\"\n",
        "            # <= batch_size, en_seq_len\n",
        "            e_i = K.squeeze(K.dot(Ws_plus_Uh, self.V_a), axis=-1)\n",
        "            # <= batch_size, en_seq_len\n",
        "            e_i = K.softmax(e_i)\n",
        "\n",
        "            logger.debug(f\"ei.shape = {e_i.shape}\")\n",
        "\n",
        "            return e_i, [e_i]\n",
        "\n",
        "        def context_step(inputs, states):\n",
        "            \"\"\" Step function for computing ci using ei \"\"\"\n",
        "\n",
        "            logger.debug(\"Running attention vector computation step\")\n",
        "\n",
        "            if not isinstance(states, (list, tuple)):\n",
        "                raise TypeError(f\"States must be an iterable. Got {states} of type {type(states)}\")\n",
        "\n",
        "            encoder_full_seq = states[-1]\n",
        "\n",
        "            # <= batch_size, hidden_size\n",
        "            c_i = K.sum(encoder_full_seq * K.expand_dims(inputs, -1), axis=1)\n",
        "\n",
        "            logger.debug(f\"ci.shape = {c_i.shape}\")\n",
        "\n",
        "            return c_i, [c_i]\n",
        "\n",
        "        # we don't maintain states between steps when computing attention\n",
        "        # attention is stateless, so we're passing a fake state for RNN step function\n",
        "        fake_state_c = K.sum(encoder_out_seq, axis=1)\n",
        "        fake_state_e = K.sum(encoder_out_seq, axis=2)  # <= (batch_size, enc_seq_len, latent_dim\n",
        "\n",
        "        \"\"\" Computing energy outputs \"\"\"\n",
        "        # e_outputs => (batch_size, de_seq_len, en_seq_len)\n",
        "        last_out, e_outputs, _ = K.rnn(\n",
        "            energy_step, decoder_out_seq, [fake_state_e], constants=[encoder_out_seq]\n",
        "        )\n",
        "\n",
        "        \"\"\" Computing context vectors \"\"\"\n",
        "        last_out, c_outputs, _ = K.rnn(\n",
        "            context_step, e_outputs, [fake_state_c], constants=[encoder_out_seq]\n",
        "        )\n",
        "\n",
        "        return c_outputs, e_outputs\n",
        "\n",
        "    def compute_output_shape(self, input_shape):\n",
        "        \"\"\" Outputs produced by the layer \"\"\"\n",
        "        return [\n",
        "            tf.TensorShape((input_shape[1][0], input_shape[1][1], input_shape[1][2])),\n",
        "            tf.TensorShape((input_shape[1][0], input_shape[1][1], input_shape[0][1]))\n",
        "        ]"
      ],
      "metadata": {
        "id": "tAzO6sCkYJdD"
      },
      "execution_count": null,
      "outputs": []
    },
    {
      "cell_type": "markdown",
      "source": [
        "#Model Buliding \n",
        "we will be implementing a encoder decoder architectiure with stacked LSTM'S(3 in particular) that also has attention layer(Transformer)"
      ],
      "metadata": {
        "id": "mPxon72zgOs1"
      }
    },
    {
      "cell_type": "markdown",
      "source": [
        "importing all the libraries"
      ],
      "metadata": {
        "id": "m8tMUpoYBGqn"
      }
    },
    {
      "cell_type": "code",
      "source": [
        "#@title Importing all the neccesary libraries \n",
        "from keras.preprocessing.text import Tokenizer \n",
        "# from keras.preprocessing.sequence import pad_sequences\n",
        "from keras.utils import pad_sequences\n",
        "from nltk.corpus import stopwords   \n",
        "from tensorflow.keras.layers import Input, LSTM, Embedding, Dense, Concatenate, TimeDistributed, Bidirectional\n",
        "from tensorflow.keras.models import Model\n",
        "from tensorflow.keras.callbacks import EarlyStopping"
      ],
      "metadata": {
        "id": "NVh2rPc8AVxi"
      },
      "execution_count": null,
      "outputs": []
    },
    {
      "cell_type": "code",
      "source": [
        "#@title Model buildling\n",
        "from keras import backend as K \n",
        "K.clear_session()\n",
        "\n",
        "#i have tried different combinations of values this optimal combination for the model\n",
        "latent_dim = 300\n",
        "embedding_dim=200\n",
        "#the dimensions for the latent space and embedding layer respectively.\n",
        "\n",
        "# Encoder \n",
        "encoder_inputs = Input(shape=(max_text_len,))\n",
        "\n",
        "\n",
        "#embedding layer\n",
        "enc_emb =  Embedding(x_voc, embedding_dim,trainable=True)(encoder_inputs)\n",
        "\n",
        "#these are the three LSTM layers in the encoder. They have the same dimensionality and use dropout and recurrent dropout regularization.\n",
        "#lstm 1\n",
        "encoder_lstm1 = LSTM(latent_dim,return_sequences=True,return_state=True,dropout=0.4,recurrent_dropout=0.4)\n",
        "encoder_output1, state_h1, state_c1 = encoder_lstm1(enc_emb)\n",
        "\n",
        "#lstm 2\n",
        "encoder_lstm2 = LSTM(latent_dim,return_sequences=True,return_state=True,dropout=0.4,recurrent_dropout=0.4)\n",
        "encoder_output2, state_h2, state_c2 = encoder_lstm2(encoder_output1)\n",
        "\n",
        "#lstm 3\n",
        "encoder_lstm3=LSTM(latent_dim, return_state=True, return_sequences=True,dropout=0.4,recurrent_dropout=0.4)\n",
        "encoder_outputs, state_h, state_c= encoder_lstm3(encoder_output2)\n",
        "\n",
        "# Set up the decoder, using `encoder_states` as initial state.\n",
        "decoder_inputs = Input(shape=(None,))\n",
        "\n",
        "#embedding layer\n",
        "dec_emb_layer = Embedding(y_voc, embedding_dim,trainable=True)\n",
        "dec_emb = dec_emb_layer(decoder_inputs)\n",
        "\n",
        "decoder_lstm = LSTM(latent_dim, return_sequences=True, return_state=True,dropout=0.4,recurrent_dropout=0.2)\n",
        "decoder_outputs,decoder_fwd_state, decoder_back_state = decoder_lstm(dec_emb,initial_state=[state_h, state_c])\n",
        "\n",
        "# Attention layer\n",
        "#attn_layer is the attention layer that calculates the attention weights and the attention context vector.\n",
        "#attn_out is the attention context vector, and attn_states are the attention weights.\n",
        "\n",
        "attn_layer = AttentionLayer(name='attention_layer')\n",
        "attn_out, attn_states = attn_layer([encoder_outputs, decoder_outputs])\n",
        "\n",
        "# Concat attention input and decoder LSTM output\n",
        "decoder_concat_input = Concatenate(axis=-1, name='concat_layer')([decoder_outputs, attn_out])\n",
        "\n",
        "# dense layer\n",
        "#is the dense layer that produces the output probabilities for each token in the target vocabulary.\n",
        "decoder_dense =  TimeDistributed(Dense(y_voc, activation='softmax'))\n",
        "decoder_outputs = decoder_dense(decoder_concat_input)\n",
        "\n",
        "# Define the model \n",
        "# model is defined as the Keras model with encoder_inputs and decoder_inputs as inputs and decoder_outputs as the output.\n",
        "model = Model([encoder_inputs, decoder_inputs], decoder_outputs)\n",
        "\n",
        "# the model is summarized.\n",
        "model.summary()"
      ],
      "metadata": {
        "id": "urHZzkI_W8kE",
        "colab": {
          "base_uri": "https://localhost:8080/"
        },
        "outputId": "baf46876-d97d-4b3f-90d5-fe186f46b167"
      },
      "execution_count": null,
      "outputs": [
        {
          "output_type": "stream",
          "name": "stderr",
          "text": [
            "WARNING:tensorflow:Layer lstm will not use cuDNN kernels since it doesn't meet the criteria. It will use a generic GPU kernel as fallback when running on GPU.\n",
            "WARNING:tensorflow:Layer lstm_1 will not use cuDNN kernels since it doesn't meet the criteria. It will use a generic GPU kernel as fallback when running on GPU.\n",
            "WARNING:tensorflow:Layer lstm_2 will not use cuDNN kernels since it doesn't meet the criteria. It will use a generic GPU kernel as fallback when running on GPU.\n",
            "WARNING:tensorflow:Layer lstm_3 will not use cuDNN kernels since it doesn't meet the criteria. It will use a generic GPU kernel as fallback when running on GPU.\n"
          ]
        },
        {
          "output_type": "stream",
          "name": "stdout",
          "text": [
            "Model: \"model\"\n",
            "__________________________________________________________________________________________________\n",
            " Layer (type)                   Output Shape         Param #     Connected to                     \n",
            "==================================================================================================\n",
            " input_1 (InputLayer)           [(None, 250)]        0           []                               \n",
            "                                                                                                  \n",
            " embedding (Embedding)          (None, 250, 200)     735000      ['input_1[0][0]']                \n",
            "                                                                                                  \n",
            " lstm (LSTM)                    [(None, 250, 300),   601200      ['embedding[0][0]']              \n",
            "                                 (None, 300),                                                     \n",
            "                                 (None, 300)]                                                     \n",
            "                                                                                                  \n",
            " input_2 (InputLayer)           [(None, None)]       0           []                               \n",
            "                                                                                                  \n",
            " lstm_1 (LSTM)                  [(None, 250, 300),   721200      ['lstm[0][0]']                   \n",
            "                                 (None, 300),                                                     \n",
            "                                 (None, 300)]                                                     \n",
            "                                                                                                  \n",
            " embedding_1 (Embedding)        (None, None, 200)    34400       ['input_2[0][0]']                \n",
            "                                                                                                  \n",
            " lstm_2 (LSTM)                  [(None, 250, 300),   721200      ['lstm_1[0][0]']                 \n",
            "                                 (None, 300),                                                     \n",
            "                                 (None, 300)]                                                     \n",
            "                                                                                                  \n",
            " lstm_3 (LSTM)                  [(None, None, 300),  601200      ['embedding_1[0][0]',            \n",
            "                                 (None, 300),                     'lstm_2[0][1]',                 \n",
            "                                 (None, 300)]                     'lstm_2[0][2]']                 \n",
            "                                                                                                  \n",
            " attention_layer (AttentionLaye  ((None, None, 300),  180300     ['lstm_2[0][0]',                 \n",
            " r)                              (None, None, 250))               'lstm_3[0][0]']                 \n",
            "                                                                                                  \n",
            " concat_layer (Concatenate)     (None, None, 600)    0           ['lstm_3[0][0]',                 \n",
            "                                                                  'attention_layer[0][0]']        \n",
            "                                                                                                  \n",
            " time_distributed (TimeDistribu  (None, None, 172)   103372      ['concat_layer[0][0]']           \n",
            " ted)                                                                                             \n",
            "                                                                                                  \n",
            "==================================================================================================\n",
            "Total params: 3,697,872\n",
            "Trainable params: 3,697,872\n",
            "Non-trainable params: 0\n",
            "__________________________________________________________________________________________________\n"
          ]
        }
      ]
    },
    {
      "cell_type": "markdown",
      "source": [
        "\n",
        "Sections of the model\n",
        " \n",
        "    \n",
        "   \n",
        "\n",
        "*   Encoder- Encoder_inputs is used in order to encode the words into numeric data for processing by LSTM layers.\n",
        "*   LSTM Layers- We use 3 LSTM layers in order to process the data effectively. You can also experiment by adding or removing the layers in order to find more better accuracies. return_sequences in LSTM layer is set true until we want to add more layers consecutively.\n",
        "*    Decoder- Decoder again converts the numeric data into the understandable word formats.\n",
        "*     Attention layer has been added to selectively focus on relevant information while discarding non-useful information. This is done by cognitively mapping the generated sentences with the inputs of the encoder layer.\n",
        "\n",
        "*   Dense layer has been added to mathematically represent the matrix-vector multiplication in neurons. It is used to change the dimensions of the vectors for processing between various layers.\n",
        "\n",
        "\n",
        "\n"
      ],
      "metadata": {
        "id": "8sS4eyZNfOyw"
      }
    },
    {
      "cell_type": "code",
      "source": [
        "#@title Visualising the Model\n",
        "from keras.utils.vis_utils import plot_model\n",
        "plot_model(model, to_file='model_plot.png', show_shapes=True, show_layer_names=True)  \n"
      ],
      "metadata": {
        "colab": {
          "base_uri": "https://localhost:8080/",
          "height": 976
        },
        "id": "GYH2hzAuatC8",
        "outputId": "ac2d1206-af61-4b25-b6ef-e07d0b797953"
      },
      "execution_count": null,
      "outputs": [
        {
          "output_type": "execute_result",
          "data": {
            "image/png": "[encoded data removed]",
            "text/plain": [
              "<IPython.core.display.Image object>"
            ]
          },
          "metadata": {},
          "execution_count": 124
        }
      ]
    },
    {
      "cell_type": "markdown",
      "source": [
        "Data loss function"
      ],
      "metadata": {
        "id": "q8LMxYM8cwoR"
      }
    },
    {
      "cell_type": "code",
      "source": [
        "model.compile(optimizer='rmsprop', loss='sparse_categorical_crossentropy')"
      ],
      "metadata": {
        "id": "P7ewTaqaXr4V"
      },
      "execution_count": null,
      "outputs": []
    },
    {
      "cell_type": "markdown",
      "source": [
        " Our model will stop training once the validation loss increases\n"
      ],
      "metadata": {
        "id": "zH6BOZ0MhYBq"
      }
    },
    {
      "cell_type": "code",
      "source": [
        "es = EarlyStopping(monitor='val_loss', mode='min', verbose=1,patience=2)"
      ],
      "metadata": {
        "id": "_OoYFdNEc3vu"
      },
      "execution_count": null,
      "outputs": []
    },
    {
      "cell_type": "code",
      "source": [
        "#@title Training the model with 90% of our dataset\n",
        "history=model.fit([x_tr,y_tr[:,:-1]], y_tr.reshape(y_tr.shape[0],y_tr.shape[1], 1)[:,1:] ,epochs=50,callbacks=[es],batch_size=150, validation_data=([x_val,y_val[:,:-1]], y_val.reshape(y_val.shape[0],y_val.shape[1], 1)[:,1:]))"
      ],
      "metadata": {
        "id": "7cYvOuK7g8i8",
        "colab": {
          "base_uri": "https://localhost:8080/"
        },
        "outputId": "4f98e818-acce-4914-d019-94411e5cc7cb"
      },
      "execution_count": null,
      "outputs": [
        {
          "output_type": "stream",
          "name": "stdout",
          "text": [
            "Epoch 1/50\n",
            "2/2 [==============================] - 34s 12s/step - loss: 5.0220 - val_loss: 3.4526\n",
            "Epoch 2/50\n",
            "2/2 [==============================] - 14s 4s/step - loss: 2.6975 - val_loss: 4.4704\n",
            "Epoch 3/50\n",
            "2/2 [==============================] - 9s 4s/step - loss: 3.1828 - val_loss: 0.8408\n",
            "Epoch 4/50\n",
            "2/2 [==============================] - 9s 5s/step - loss: 1.0248 - val_loss: 0.8252\n",
            "Epoch 5/50\n",
            "2/2 [==============================] - 7s 4s/step - loss: 1.0061 - val_loss: 0.8150\n",
            "Epoch 6/50\n",
            "2/2 [==============================] - 9s 4s/step - loss: 0.9948 - val_loss: 0.8055\n",
            "Epoch 7/50\n",
            "2/2 [==============================] - 9s 5s/step - loss: 0.9863 - val_loss: 0.7978\n",
            "Epoch 8/50\n",
            "2/2 [==============================] - 7s 4s/step - loss: 0.9791 - val_loss: 0.7930\n",
            "Epoch 9/50\n",
            "2/2 [==============================] - 9s 4s/step - loss: 0.9734 - val_loss: 0.7957\n",
            "Epoch 10/50\n",
            "2/2 [==============================] - 9s 5s/step - loss: 0.9680 - val_loss: 0.7907\n",
            "Epoch 11/50\n",
            "2/2 [==============================] - 9s 4s/step - loss: 0.9625 - val_loss: 0.7805\n",
            "Epoch 12/50\n",
            "2/2 [==============================] - 9s 4s/step - loss: 0.9581 - val_loss: 0.7774\n",
            "Epoch 13/50\n",
            "2/2 [==============================] - 8s 5s/step - loss: 0.9530 - val_loss: 0.7740\n",
            "Epoch 14/50\n",
            "2/2 [==============================] - 8s 4s/step - loss: 0.9493 - val_loss: 0.7687\n",
            "Epoch 15/50\n",
            "2/2 [==============================] - 9s 4s/step - loss: 0.9466 - val_loss: 0.7636\n",
            "Epoch 16/50\n",
            "2/2 [==============================] - 9s 5s/step - loss: 0.9424 - val_loss: 0.7608\n",
            "Epoch 17/50\n",
            "2/2 [==============================] - 8s 4s/step - loss: 0.9406 - val_loss: 0.7559\n",
            "Epoch 18/50\n",
            "2/2 [==============================] - 9s 4s/step - loss: 0.9344 - val_loss: 0.7583\n",
            "Epoch 19/50\n",
            "2/2 [==============================] - 8s 5s/step - loss: 0.9269 - val_loss: 0.7558\n",
            "Epoch 20/50\n",
            "2/2 [==============================] - 7s 4s/step - loss: 0.9241 - val_loss: 0.7689\n",
            "Epoch 21/50\n",
            "2/2 [==============================] - 9s 4s/step - loss: 0.9276 - val_loss: 0.7656\n",
            "Epoch 21: early stopping\n"
          ]
        }
      ]
    },
    {
      "cell_type": "code",
      "source": [
        "from matplotlib import pyplot\n",
        "pyplot.plot(history.history['loss'], label='train')\n",
        "pyplot.plot(history.history['val_loss'], label='test')\n",
        "pyplot.legend()\n",
        "pyplot.show()"
      ],
      "metadata": {
        "id": "osDX_1vzh0nZ",
        "colab": {
          "base_uri": "https://localhost:8080/",
          "height": 430
        },
        "outputId": "3f798298-162b-44f8-b701-169bb88f3b11"
      },
      "execution_count": null,
      "outputs": [
        {
          "output_type": "display_data",
          "data": {
            "text/plain": [
              "<Figure size 640x480 with 1 Axes>"
            ],
            "image/png": "[encoded data removed]"
          },
          "metadata": {}
        }
      ]
    },
    {
      "cell_type": "markdown",
      "source": [
        "building the dictionary to convert the index to word for target and source vocabulary"
      ],
      "metadata": {
        "id": "xlwJvHUji1Xv"
      }
    },
    {
      "cell_type": "code",
      "source": [
        "reverse_target_word_index=y_tokenizer.index_word\n",
        "reverse_source_word_index=x_tokenizer.index_word\n",
        "target_word_index=y_tokenizer.word_index\n"
      ],
      "metadata": {
        "id": "FR6tHQI0h6c3"
      },
      "execution_count": null,
      "outputs": []
    },
    {
      "cell_type": "code",
      "source": [
        "#@title Decode sequence\n",
        "\n",
        "#Define the encoder model to get the feature vector from the input sequence\n",
        "encoder_model = Model(inputs=encoder_inputs,outputs=[encoder_outputs, state_h, state_c])\n",
        "\n",
        "# Decoder setup\n",
        "# Create input tensors to hold the states from the previous time step and the hidden state of the encoder output\n",
        "decoder_state_input_h = Input(shape=(latent_dim,))\n",
        "decoder_state_input_c = Input(shape=(latent_dim,))\n",
        "decoder_hidden_state_input = Input(shape=(max_text_len,latent_dim))\n",
        "\n",
        "# Get the embeddings of the decoder sequence\n",
        "dec_emb2= dec_emb_layer(decoder_inputs) \n",
        "\n",
        "\n",
        "# set the initial states to the states from the previous time step\n",
        "decoder_outputs2, state_h2, state_c2 = decoder_lstm(dec_emb2, initial_state=[decoder_state_input_h, decoder_state_input_c])\n",
        "\n",
        "#attention inference\n",
        "attn_out_inf, attn_states_inf = attn_layer([decoder_hidden_state_input, decoder_outputs2])\n",
        "decoder_inf_concat = Concatenate(axis=-1, name='concat')([decoder_outputs2, attn_out_inf])\n",
        "\n",
        "# Use a dense softmax layer to generate a probability distribution over the target vocabulary\n",
        "decoder_outputs2 = decoder_dense(decoder_inf_concat) \n",
        "\n",
        "# Define the final decoder model\n",
        "decoder_model = Model(\n",
        "    [decoder_inputs] + [decoder_hidden_state_input,decoder_state_input_h, decoder_state_input_c], [decoder_outputs2] + [state_h2, state_c2])"
      ],
      "metadata": {
        "id": "q_rKjPwWiR6V"
      },
      "execution_count": null,
      "outputs": []
    },
    {
      "cell_type": "code",
      "source": [
        "def decode_sequence(input_sequence):\n",
        "    # Encode the input as state vectors.\n",
        "    e_out, e_h, e_c = encoder_model.predict(input_sequence)\n",
        "\n",
        "    # Generate empty target sequence of length 1.\n",
        "    target_seq = np.zeros((1,1))\n",
        "\n",
        "    # Chose the 'start' word as the first word of the target sequence\n",
        "    target_seq[0, 0] = target_word_index['sostok']\n",
        "\n",
        "    stop_condition = False\n",
        "    decoded_sentence = ''\n",
        "    while not stop_condition:\n",
        "        output_tokens, h, c = decoder_model.predict([target_seq] + [e_out, e_h, e_c])\n",
        "\n",
        "        # Sample a token\n",
        "        sampled_token_index = np.argmax(output_tokens[0, -1, :])\n",
        "        # print(sampled_token_index)\n",
        "        # print(reverse_target_word_index)\n",
        "        \n",
        "        sampled_token_index = sampled_token_index+1\n",
        "        sampled_token = reverse_target_word_index[sampled_token_index]\n",
        "        # print(sampled_token)\n",
        "\n",
        "        if(sampled_token!='eostok'):\n",
        "            decoded_sentence += ' '+sampled_token\n",
        "\n",
        "            # Exit condition: either hit max length or find stop word.\n",
        "            if (sampled_token == 'eostok' or len(decoded_sentence.split()) >= (max_summary_len-1)):\n",
        "                stop_condition = True\n",
        "\n",
        "        # Update the target sequence (of length 1).\n",
        "        target_seq = np.zeros((1,1))\n",
        "        target_seq[0, 0] = sampled_token_index\n",
        "\n",
        "        # Update internal states\n",
        "        e_h, e_c = h, c\n",
        "\n",
        "    return decoded_sentence"
      ],
      "metadata": {
        "id": "Hgzy8ITTqrkD"
      },
      "execution_count": null,
      "outputs": []
    },
    {
      "cell_type": "markdown",
      "source": [
        "Decode the decoder sequence for text generation and convert the integer sequence into word sequence for summary."
      ],
      "metadata": {
        "id": "CR1_aDuEkGln"
      }
    },
    {
      "cell_type": "code",
      "source": [
        "def seq2summary(input_seq):\n",
        "    newString=''\n",
        "    for i in input_seq:\n",
        "        if((i!=0 and i!=target_word_index['sostok']) and i!=target_word_index['eostok']):\n",
        "            newString=newString+reverse_target_word_index[i]+' '\n",
        "    return newString\n",
        "\n",
        "def seq2text(input_seq):\n",
        "    newString=''\n",
        "    for i in input_seq:\n",
        "        if(i!=0):\n",
        "            newString=newString+reverse_source_word_index[i]+' '\n",
        "    return newString"
      ],
      "metadata": {
        "id": "IYEp3JDpiauU"
      },
      "execution_count": null,
      "outputs": []
    },
    {
      "cell_type": "code",
      "source": [
        "for i in range(0,10):\n",
        "    print(\"Original Article:\",seq2text(x_val[i]))\n",
        "    print(\"Original summary:\",seq2summary(y_val[i]))\n",
        "    print(\"Predicted summary:\",decode_sequence(x_val[i].reshape(1,max_text_len)))\n",
        "    print(\"\\n\")\n"
      ],
      "metadata": {
        "id": "XhLB-UjBpoZX",
        "colab": {
          "base_uri": "https://localhost:8080/"
        },
        "outputId": "d5d44a54-d716-4433-cb94-52a06de7628a"
      },
      "execution_count": null,
      "outputs": [
        {
          "output_type": "stream",
          "name": "stdout",
          "text": [
            "Original Article: woman arrested wednesday allegedly hit year old boyfriend face hard knocked one contact florida charged domestic violence battery battery person years old victim released county office told elderly man called police told face twice contact battery charge florida charged domestic violence battery battery person years old multiple drug charges pictured two separate last year arrested possession claims much older body argument man told police heated argument friend spending time alleged victim told police dating months adding living together two months first time arrested according public arrest records taken march last year possession officer april last year charged possession august last year arrested taken failure appear court arrested failure appear charge january year failure appear pictured year last year charged failure appear court \n",
            "Original summary: charged years old one police arrested five also court \n",
            "1/1 [==============================] - 1s 748ms/step\n",
            "1/1 [==============================] - 0s 429ms/step\n",
            "1/1 [==============================] - 0s 24ms/step\n",
            "1/1 [==============================] - 0s 21ms/step\n",
            "1/1 [==============================] - 0s 23ms/step\n",
            "1/1 [==============================] - 0s 24ms/step\n",
            "1/1 [==============================] - 0s 23ms/step\n",
            "1/1 [==============================] - 0s 21ms/step\n",
            "1/1 [==============================] - 0s 25ms/step\n",
            "1/1 [==============================] - 0s 22ms/step\n",
            "1/1 [==============================] - 0s 22ms/step\n",
            "1/1 [==============================] - 0s 23ms/step\n",
            "1/1 [==============================] - 0s 23ms/step\n",
            "1/1 [==============================] - 0s 27ms/step\n",
            "1/1 [==============================] - 0s 22ms/step\n",
            "1/1 [==============================] - 0s 22ms/step\n",
            "1/1 [==============================] - 0s 22ms/step\n",
            "1/1 [==============================] - 0s 29ms/step\n",
            "1/1 [==============================] - 0s 23ms/step\n",
            "1/1 [==============================] - 0s 22ms/step\n",
            "1/1 [==============================] - 0s 21ms/step\n",
            "1/1 [==============================] - 0s 22ms/step\n",
            "1/1 [==============================] - 0s 21ms/step\n",
            "1/1 [==============================] - 0s 22ms/step\n",
            "1/1 [==============================] - 0s 23ms/step\n",
            "1/1 [==============================] - 0s 24ms/step\n",
            "1/1 [==============================] - 0s 21ms/step\n",
            "1/1 [==============================] - 0s 26ms/step\n",
            "1/1 [==============================] - 0s 25ms/step\n",
            "1/1 [==============================] - 0s 21ms/step\n",
            "1/1 [==============================] - 0s 23ms/step\n",
            "1/1 [==============================] - 0s 22ms/step\n",
            "1/1 [==============================] - 0s 24ms/step\n",
            "1/1 [==============================] - 0s 29ms/step\n",
            "1/1 [==============================] - 0s 24ms/step\n",
            "1/1 [==============================] - 0s 24ms/step\n",
            "1/1 [==============================] - 0s 23ms/step\n",
            "1/1 [==============================] - 0s 23ms/step\n",
            "1/1 [==============================] - 0s 21ms/step\n",
            "1/1 [==============================] - 0s 30ms/step\n",
            "1/1 [==============================] - 0s 40ms/step\n",
            "1/1 [==============================] - 0s 37ms/step\n",
            "1/1 [==============================] - 0s 34ms/step\n",
            "1/1 [==============================] - 0s 35ms/step\n",
            "1/1 [==============================] - 0s 42ms/step\n",
            "1/1 [==============================] - 0s 36ms/step\n",
            "1/1 [==============================] - 0s 42ms/step\n",
            "1/1 [==============================] - 0s 32ms/step\n",
            "1/1 [==============================] - 0s 33ms/step\n",
            "1/1 [==============================] - 0s 33ms/step\n",
            "Predicted summary:  year manchester manchester manchester manchester manchester manchester manchester manchester sostok sostok sostok sostok sostok sostok sostok sostok sostok sostok sostok sostok sostok sostok sostok sostok sostok sostok sostok sostok sostok sostok sostok sostok sostok sostok sostok sostok sostok sostok sostok sostok sostok sostok sostok sostok sostok sostok sostok sostok\n",
            "\n",
            "\n",
            "Original Article: cell phone footage emerged appearing show dennis set latest movie video monday evening shows given sunday day tomorrow losing someone appears line sight acting head onto set cannot even get line starts even watching year old set ever cell phone footage emerged appearing show dennis set latest movie seconds footage younger brother fellow randy workers set ever horse one voice camera tries calm king dennis set one voice camera tries calm king dennis set incident almost good true multiple video one late night host certainly one claimed work live said video give details movie shooting went even real video online responded comment yet \n",
            "Original summary: footage show set set \n",
            "1/1 [==============================] - 0s 318ms/step\n",
            "1/1 [==============================] - 0s 33ms/step\n",
            "1/1 [==============================] - 0s 33ms/step\n",
            "1/1 [==============================] - 0s 36ms/step\n",
            "1/1 [==============================] - 0s 38ms/step\n",
            "1/1 [==============================] - 0s 37ms/step\n",
            "1/1 [==============================] - 0s 34ms/step\n",
            "1/1 [==============================] - 0s 42ms/step\n",
            "1/1 [==============================] - 0s 33ms/step\n",
            "1/1 [==============================] - 0s 35ms/step\n",
            "1/1 [==============================] - 0s 34ms/step\n",
            "1/1 [==============================] - 0s 22ms/step\n",
            "1/1 [==============================] - 0s 23ms/step\n",
            "1/1 [==============================] - 0s 22ms/step\n",
            "1/1 [==============================] - 0s 28ms/step\n",
            "1/1 [==============================] - 0s 25ms/step\n",
            "1/1 [==============================] - 0s 21ms/step\n",
            "1/1 [==============================] - 0s 21ms/step\n",
            "1/1 [==============================] - 0s 23ms/step\n",
            "1/1 [==============================] - 0s 23ms/step\n",
            "1/1 [==============================] - 0s 27ms/step\n",
            "1/1 [==============================] - 0s 22ms/step\n",
            "1/1 [==============================] - 0s 22ms/step\n",
            "1/1 [==============================] - 0s 20ms/step\n",
            "1/1 [==============================] - 0s 25ms/step\n",
            "1/1 [==============================] - 0s 21ms/step\n",
            "1/1 [==============================] - 0s 23ms/step\n",
            "1/1 [==============================] - 0s 21ms/step\n",
            "1/1 [==============================] - 0s 25ms/step\n",
            "1/1 [==============================] - 0s 22ms/step\n",
            "1/1 [==============================] - 0s 20ms/step\n",
            "1/1 [==============================] - 0s 23ms/step\n",
            "1/1 [==============================] - 0s 25ms/step\n",
            "1/1 [==============================] - 0s 23ms/step\n",
            "1/1 [==============================] - 0s 23ms/step\n",
            "1/1 [==============================] - 0s 28ms/step\n",
            "1/1 [==============================] - 0s 21ms/step\n",
            "1/1 [==============================] - 0s 21ms/step\n",
            "1/1 [==============================] - 0s 22ms/step\n",
            "1/1 [==============================] - 0s 21ms/step\n",
            "1/1 [==============================] - 0s 23ms/step\n",
            "1/1 [==============================] - 0s 22ms/step\n",
            "1/1 [==============================] - 0s 20ms/step\n",
            "1/1 [==============================] - 0s 24ms/step\n",
            "1/1 [==============================] - 0s 23ms/step\n",
            "1/1 [==============================] - 0s 27ms/step\n",
            "1/1 [==============================] - 0s 22ms/step\n",
            "1/1 [==============================] - 0s 20ms/step\n",
            "1/1 [==============================] - 0s 22ms/step\n",
            "1/1 [==============================] - 0s 29ms/step\n",
            "Predicted summary:  year manchester manchester manchester manchester manchester manchester manchester manchester sostok sostok sostok sostok sostok sostok sostok sostok sostok sostok sostok sostok sostok sostok sostok sostok sostok sostok sostok sostok sostok sostok sostok sostok sostok sostok sostok sostok sostok sostok sostok sostok sostok sostok sostok sostok sostok sostok sostok sostok\n",
            "\n",
            "\n",
            "Original Article: shocking surveillance footage shows using hammer chair leg beat man suspected act video taken gas station north street philadelphia shows five people including two children attacking year old one group takes man brought ground head continue encounter believed caused year old boy telling mother man hit police found evidence investigation video taken gas station north street philadelphia shows five people including two children attacking year old encounter believed caused year old boy telling mother man hit youngster accused man asking fill change end video brought car look injuries victim floor boy mother year old allegedly used chair leg close family friend said carried pair arrested charged attempted murder related said watching see police found outside medical center victim taken shortly attack inside philadelphia police still looking remaining suspects asked public information one group takes man brought ground another chair leg continue beat man ground return car others man head one women boy accused man hitting see injuries man boy mother year old allegedly used chair leg close family friend said carried pair arrested multiple charges including attempted murder \n",
            "Original summary: video five year old head two charged police \n",
            "1/1 [==============================] - 0s 200ms/step\n",
            "1/1 [==============================] - 0s 21ms/step\n",
            "1/1 [==============================] - 0s 20ms/step\n",
            "1/1 [==============================] - 0s 23ms/step\n",
            "1/1 [==============================] - 0s 26ms/step\n",
            "1/1 [==============================] - 0s 24ms/step\n",
            "1/1 [==============================] - 0s 22ms/step\n",
            "1/1 [==============================] - 0s 24ms/step\n",
            "1/1 [==============================] - 0s 23ms/step\n",
            "1/1 [==============================] - 0s 24ms/step\n",
            "1/1 [==============================] - 0s 22ms/step\n",
            "1/1 [==============================] - 0s 25ms/step\n",
            "1/1 [==============================] - 0s 24ms/step\n",
            "1/1 [==============================] - 0s 21ms/step\n",
            "1/1 [==============================] - 0s 21ms/step\n",
            "1/1 [==============================] - 0s 22ms/step\n",
            "1/1 [==============================] - 0s 23ms/step\n",
            "1/1 [==============================] - 0s 23ms/step\n",
            "1/1 [==============================] - 0s 21ms/step\n",
            "1/1 [==============================] - 0s 22ms/step\n",
            "1/1 [==============================] - 0s 23ms/step\n",
            "1/1 [==============================] - 0s 20ms/step\n",
            "1/1 [==============================] - 0s 27ms/step\n",
            "1/1 [==============================] - 0s 23ms/step\n",
            "1/1 [==============================] - 0s 20ms/step\n",
            "1/1 [==============================] - 0s 23ms/step\n",
            "1/1 [==============================] - 0s 21ms/step\n",
            "1/1 [==============================] - 0s 23ms/step\n",
            "1/1 [==============================] - 0s 22ms/step\n",
            "1/1 [==============================] - 0s 22ms/step\n",
            "1/1 [==============================] - 0s 22ms/step\n",
            "1/1 [==============================] - 0s 23ms/step\n",
            "1/1 [==============================] - 0s 22ms/step\n",
            "1/1 [==============================] - 0s 25ms/step\n",
            "1/1 [==============================] - 0s 22ms/step\n",
            "1/1 [==============================] - 0s 20ms/step\n",
            "1/1 [==============================] - 0s 23ms/step\n",
            "1/1 [==============================] - 0s 24ms/step\n",
            "1/1 [==============================] - 0s 23ms/step\n",
            "1/1 [==============================] - 0s 23ms/step\n",
            "1/1 [==============================] - 0s 25ms/step\n",
            "1/1 [==============================] - 0s 22ms/step\n",
            "1/1 [==============================] - 0s 24ms/step\n",
            "1/1 [==============================] - 0s 21ms/step\n",
            "1/1 [==============================] - 0s 24ms/step\n",
            "1/1 [==============================] - 0s 23ms/step\n",
            "1/1 [==============================] - 0s 24ms/step\n",
            "1/1 [==============================] - 0s 23ms/step\n",
            "1/1 [==============================] - 0s 22ms/step\n",
            "1/1 [==============================] - 0s 22ms/step\n",
            "Predicted summary:  year manchester manchester manchester manchester manchester manchester manchester manchester sostok sostok sostok sostok sostok sostok sostok sostok sostok sostok sostok sostok sostok sostok sostok sostok sostok sostok sostok sostok sostok sostok sostok sostok sostok sostok sostok sostok sostok sostok sostok sostok sostok sostok sostok sostok sostok sostok sostok sostok\n",
            "\n",
            "\n",
            "Original Article: children share class much better early tests researchers claim findings come general national association head teachers said using technology aid non however research effects levels best comes sharing children share class much better early tests researchers claim university found tests children shared academic year significantly student device shared students scored around points students used device non users worked students school district research miss said findings suggest learning around technology made difference shared students scored around points test students used device non users added schools might used especially earlier order make technology effective due present findings annual conference international association puerto rico \n",
            "Original summary: scored points \n",
            "1/1 [==============================] - 0s 200ms/step\n",
            "1/1 [==============================] - 0s 25ms/step\n",
            "1/1 [==============================] - 0s 22ms/step\n",
            "1/1 [==============================] - 0s 25ms/step\n",
            "1/1 [==============================] - 0s 23ms/step\n",
            "1/1 [==============================] - 0s 20ms/step\n",
            "1/1 [==============================] - 0s 19ms/step\n",
            "1/1 [==============================] - 0s 20ms/step\n",
            "1/1 [==============================] - 0s 21ms/step\n",
            "1/1 [==============================] - 0s 21ms/step\n",
            "1/1 [==============================] - 0s 23ms/step\n",
            "1/1 [==============================] - 0s 24ms/step\n",
            "1/1 [==============================] - 0s 24ms/step\n",
            "1/1 [==============================] - 0s 21ms/step\n",
            "1/1 [==============================] - 0s 23ms/step\n",
            "1/1 [==============================] - 0s 24ms/step\n",
            "1/1 [==============================] - 0s 23ms/step\n",
            "1/1 [==============================] - 0s 22ms/step\n",
            "1/1 [==============================] - 0s 29ms/step\n",
            "1/1 [==============================] - 0s 21ms/step\n",
            "1/1 [==============================] - 0s 22ms/step\n",
            "1/1 [==============================] - 0s 21ms/step\n",
            "1/1 [==============================] - 0s 22ms/step\n",
            "1/1 [==============================] - 0s 23ms/step\n",
            "1/1 [==============================] - 0s 24ms/step\n",
            "1/1 [==============================] - 0s 21ms/step\n",
            "1/1 [==============================] - 0s 22ms/step\n",
            "1/1 [==============================] - 0s 21ms/step\n",
            "1/1 [==============================] - 0s 22ms/step\n",
            "1/1 [==============================] - 0s 21ms/step\n",
            "1/1 [==============================] - 0s 21ms/step\n",
            "1/1 [==============================] - 0s 20ms/step\n",
            "1/1 [==============================] - 0s 24ms/step\n",
            "1/1 [==============================] - 0s 24ms/step\n",
            "1/1 [==============================] - 0s 23ms/step\n",
            "1/1 [==============================] - 0s 22ms/step\n",
            "1/1 [==============================] - 0s 22ms/step\n",
            "1/1 [==============================] - 0s 22ms/step\n",
            "1/1 [==============================] - 0s 21ms/step\n",
            "1/1 [==============================] - 0s 21ms/step\n",
            "1/1 [==============================] - 0s 24ms/step\n",
            "1/1 [==============================] - 0s 22ms/step\n",
            "1/1 [==============================] - 0s 23ms/step\n",
            "1/1 [==============================] - 0s 23ms/step\n",
            "1/1 [==============================] - 0s 29ms/step\n",
            "1/1 [==============================] - 0s 23ms/step\n",
            "1/1 [==============================] - 0s 23ms/step\n",
            "1/1 [==============================] - 0s 27ms/step\n",
            "1/1 [==============================] - 0s 22ms/step\n",
            "1/1 [==============================] - 0s 40ms/step\n",
            "Predicted summary:  year manchester manchester manchester manchester manchester manchester manchester manchester sostok sostok sostok sostok sostok sostok sostok sostok sostok sostok sostok sostok sostok sostok sostok sostok sostok sostok sostok sostok sostok sostok sostok sostok sostok sostok sostok sostok sostok sostok sostok sostok sostok sostok sostok sostok sostok sostok sostok sostok\n",
            "\n",
            "\n",
            "Original Article: fighting arrested allegedly tom arrested yesterday morning home city swansea held cell hours fighter police continue investigation comes made claims social media younger former towards posting photograph twitter hand pair last seen together essex last month november comes year old accused younger former boyfriend violence online seen last month black eye allegations charged fighter allegations pair november last year spending months together california tried speaking arrest yesterday spokesman said behind allegations allegations couple november spending months together california police arrested swansea yesterday morning suspicion attacking former girlfriend essex ever former girlfriend spokesman added arrested training fight could without due allegations say moment taking twitter released wrote finally getting bed long day messages social media second time faced legal action allegedly former girlfriend previously arrested claims gave mother two black eye police later dropped case claims alleged messages phone made star spoken publicly recent allegations last year spotted local job centre understood holiday children became former starlet ways husband years last seen together march met essex history drug understood holiday children sorry currently accepting comments article \n",
            "Original summary: arrested released hours year old \n",
            "1/1 [==============================] - 0s 319ms/step\n",
            "1/1 [==============================] - 0s 33ms/step\n",
            "1/1 [==============================] - 0s 34ms/step\n",
            "1/1 [==============================] - 0s 34ms/step\n",
            "1/1 [==============================] - 0s 31ms/step\n",
            "1/1 [==============================] - 0s 31ms/step\n",
            "1/1 [==============================] - 0s 32ms/step\n",
            "1/1 [==============================] - 0s 31ms/step\n",
            "1/1 [==============================] - 0s 33ms/step\n",
            "1/1 [==============================] - 0s 32ms/step\n",
            "1/1 [==============================] - 0s 32ms/step\n",
            "1/1 [==============================] - 0s 33ms/step\n",
            "1/1 [==============================] - 0s 31ms/step\n",
            "1/1 [==============================] - 0s 34ms/step\n",
            "1/1 [==============================] - 0s 38ms/step\n",
            "1/1 [==============================] - 0s 32ms/step\n",
            "1/1 [==============================] - 0s 39ms/step\n",
            "1/1 [==============================] - 0s 29ms/step\n",
            "1/1 [==============================] - 0s 33ms/step\n",
            "1/1 [==============================] - 0s 26ms/step\n",
            "1/1 [==============================] - 0s 26ms/step\n",
            "1/1 [==============================] - 0s 27ms/step\n",
            "1/1 [==============================] - 0s 32ms/step\n",
            "1/1 [==============================] - 0s 26ms/step\n",
            "1/1 [==============================] - 0s 29ms/step\n",
            "1/1 [==============================] - 0s 26ms/step\n",
            "1/1 [==============================] - 0s 25ms/step\n",
            "1/1 [==============================] - 0s 27ms/step\n",
            "1/1 [==============================] - 0s 31ms/step\n",
            "1/1 [==============================] - 0s 26ms/step\n",
            "1/1 [==============================] - 0s 23ms/step\n",
            "1/1 [==============================] - 0s 32ms/step\n",
            "1/1 [==============================] - 0s 27ms/step\n",
            "1/1 [==============================] - 0s 28ms/step\n",
            "1/1 [==============================] - 0s 25ms/step\n",
            "1/1 [==============================] - 0s 24ms/step\n",
            "1/1 [==============================] - 0s 26ms/step\n",
            "1/1 [==============================] - 0s 23ms/step\n",
            "1/1 [==============================] - 0s 25ms/step\n",
            "1/1 [==============================] - 0s 23ms/step\n",
            "1/1 [==============================] - 0s 27ms/step\n",
            "1/1 [==============================] - 0s 25ms/step\n",
            "1/1 [==============================] - 0s 23ms/step\n",
            "1/1 [==============================] - 0s 24ms/step\n",
            "1/1 [==============================] - 0s 24ms/step\n",
            "1/1 [==============================] - 0s 23ms/step\n",
            "1/1 [==============================] - 0s 29ms/step\n",
            "1/1 [==============================] - 0s 27ms/step\n",
            "1/1 [==============================] - 0s 26ms/step\n",
            "1/1 [==============================] - 0s 22ms/step\n",
            "Predicted summary:  year manchester manchester manchester manchester manchester manchester manchester manchester sostok sostok sostok sostok sostok sostok sostok sostok sostok sostok sostok sostok sostok sostok sostok sostok sostok sostok sostok sostok sostok sostok sostok sostok sostok sostok sostok sostok sostok sostok sostok sostok sostok sostok sostok sostok sostok sostok sostok sostok\n",
            "\n",
            "\n",
            "Original Article: barcelona liga victory sunday evening featured one bizarre incidents season far score following jeremy minute striker sergio barcelona midfielder attempted time closing stages match officials grass floor throwing direction grass ground throwing towards sergio striker direction closing stages match shown red card throwing grass direction turf strikes neck reached point spain referee straight red card following incident leaves field given orders seems midfielder nature made incident eye despite turf clearly neck referee decided incident enough warrant straight red card gave orders luis enrique side towards final earned crucial three points following real madrid impressive victory earlier sunday barcelona star talk following red card jeremy home minute hand barcelona lead goalkeeper unable stop powerful \n",
            "Original summary: time barcelona star barcelona win \n",
            "1/1 [==============================] - 0s 204ms/step\n",
            "1/1 [==============================] - 0s 28ms/step\n",
            "1/1 [==============================] - 0s 23ms/step\n",
            "1/1 [==============================] - 0s 23ms/step\n",
            "1/1 [==============================] - 0s 23ms/step\n",
            "1/1 [==============================] - 0s 26ms/step\n",
            "1/1 [==============================] - 0s 25ms/step\n",
            "1/1 [==============================] - 0s 26ms/step\n",
            "1/1 [==============================] - 0s 23ms/step\n",
            "1/1 [==============================] - 0s 22ms/step\n",
            "1/1 [==============================] - 0s 21ms/step\n",
            "1/1 [==============================] - 0s 22ms/step\n",
            "1/1 [==============================] - 0s 22ms/step\n",
            "1/1 [==============================] - 0s 26ms/step\n",
            "1/1 [==============================] - 0s 24ms/step\n",
            "1/1 [==============================] - 0s 23ms/step\n",
            "1/1 [==============================] - 0s 22ms/step\n",
            "1/1 [==============================] - 0s 26ms/step\n",
            "1/1 [==============================] - 0s 24ms/step\n",
            "1/1 [==============================] - 0s 26ms/step\n",
            "1/1 [==============================] - 0s 22ms/step\n",
            "1/1 [==============================] - 0s 22ms/step\n",
            "1/1 [==============================] - 0s 24ms/step\n",
            "1/1 [==============================] - 0s 22ms/step\n",
            "1/1 [==============================] - 0s 23ms/step\n",
            "1/1 [==============================] - 0s 23ms/step\n",
            "1/1 [==============================] - 0s 22ms/step\n",
            "1/1 [==============================] - 0s 26ms/step\n",
            "1/1 [==============================] - 0s 23ms/step\n",
            "1/1 [==============================] - 0s 21ms/step\n",
            "1/1 [==============================] - 0s 30ms/step\n",
            "1/1 [==============================] - 0s 21ms/step\n",
            "1/1 [==============================] - 0s 22ms/step\n",
            "1/1 [==============================] - 0s 47ms/step\n",
            "1/1 [==============================] - 0s 38ms/step\n",
            "1/1 [==============================] - 0s 32ms/step\n",
            "1/1 [==============================] - 0s 35ms/step\n",
            "1/1 [==============================] - 0s 38ms/step\n",
            "1/1 [==============================] - 0s 34ms/step\n",
            "1/1 [==============================] - 0s 32ms/step\n",
            "1/1 [==============================] - 0s 31ms/step\n",
            "1/1 [==============================] - 0s 39ms/step\n",
            "1/1 [==============================] - 0s 32ms/step\n",
            "1/1 [==============================] - 0s 48ms/step\n",
            "1/1 [==============================] - 0s 45ms/step\n",
            "1/1 [==============================] - 0s 51ms/step\n",
            "1/1 [==============================] - 0s 34ms/step\n",
            "1/1 [==============================] - 0s 32ms/step\n",
            "1/1 [==============================] - 0s 36ms/step\n",
            "1/1 [==============================] - 0s 41ms/step\n",
            "Predicted summary:  year manchester manchester manchester manchester manchester manchester manchester manchester sostok sostok sostok sostok sostok sostok sostok sostok sostok sostok sostok sostok sostok sostok sostok sostok sostok sostok sostok sostok sostok sostok sostok sostok sostok sostok sostok sostok sostok sostok sostok sostok sostok sostok sostok sostok sostok sostok sostok sostok\n",
            "\n",
            "\n",
            "Original Article: manchester united target admits wants play champions league football southampton defender continues linked move away south coast right back impressive form season saints surprised many challenge premier league top four earned international performances interest old trafford club throughout season attended event football fighting campaign sunday night impressed southampton season linked move away always good teams looking shows well season told sky sports news going take keep performing best player right playing southampton still games play try fourth spot koeman admitted may hard keep club summer southampton defender four times england season person want play champions league football win title cup want saints boss koeman admitted recently club face battle trying keep hold former crystal palace defender \n",
            "Original summary: form season back linked move manchester united play champions league \n",
            "1/1 [==============================] - 0s 346ms/step\n",
            "1/1 [==============================] - 0s 37ms/step\n",
            "1/1 [==============================] - 0s 37ms/step\n",
            "1/1 [==============================] - 0s 36ms/step\n",
            "1/1 [==============================] - 0s 23ms/step\n",
            "1/1 [==============================] - 0s 23ms/step\n",
            "1/1 [==============================] - 0s 22ms/step\n",
            "1/1 [==============================] - 0s 22ms/step\n",
            "1/1 [==============================] - 0s 23ms/step\n",
            "1/1 [==============================] - 0s 22ms/step\n",
            "1/1 [==============================] - 0s 22ms/step\n",
            "1/1 [==============================] - 0s 23ms/step\n",
            "1/1 [==============================] - 0s 24ms/step\n",
            "1/1 [==============================] - 0s 21ms/step\n",
            "1/1 [==============================] - 0s 21ms/step\n",
            "1/1 [==============================] - 0s 21ms/step\n",
            "1/1 [==============================] - 0s 23ms/step\n",
            "1/1 [==============================] - 0s 24ms/step\n",
            "1/1 [==============================] - 0s 22ms/step\n",
            "1/1 [==============================] - 0s 23ms/step\n",
            "1/1 [==============================] - 0s 27ms/step\n",
            "1/1 [==============================] - 0s 21ms/step\n",
            "1/1 [==============================] - 0s 25ms/step\n",
            "1/1 [==============================] - 0s 24ms/step\n",
            "1/1 [==============================] - 0s 21ms/step\n",
            "1/1 [==============================] - 0s 22ms/step\n",
            "1/1 [==============================] - 0s 24ms/step\n",
            "1/1 [==============================] - 0s 21ms/step\n",
            "1/1 [==============================] - 0s 23ms/step\n",
            "1/1 [==============================] - 0s 27ms/step\n",
            "1/1 [==============================] - 0s 32ms/step\n",
            "1/1 [==============================] - 0s 33ms/step\n",
            "1/1 [==============================] - 0s 31ms/step\n",
            "1/1 [==============================] - 0s 34ms/step\n",
            "1/1 [==============================] - 0s 32ms/step\n",
            "1/1 [==============================] - 0s 35ms/step\n",
            "1/1 [==============================] - 0s 33ms/step\n",
            "1/1 [==============================] - 0s 36ms/step\n",
            "1/1 [==============================] - 0s 35ms/step\n",
            "1/1 [==============================] - 0s 34ms/step\n",
            "1/1 [==============================] - 0s 30ms/step\n",
            "1/1 [==============================] - 0s 36ms/step\n",
            "1/1 [==============================] - 0s 33ms/step\n",
            "1/1 [==============================] - 0s 32ms/step\n",
            "1/1 [==============================] - 0s 32ms/step\n",
            "1/1 [==============================] - 0s 35ms/step\n",
            "1/1 [==============================] - 0s 33ms/step\n",
            "1/1 [==============================] - 0s 33ms/step\n",
            "1/1 [==============================] - 0s 35ms/step\n",
            "1/1 [==============================] - 0s 40ms/step\n",
            "Predicted summary:  year manchester manchester manchester manchester manchester manchester manchester manchester sostok sostok sostok sostok sostok sostok sostok sostok sostok sostok sostok sostok sostok sostok sostok sostok sostok sostok sostok sostok sostok sostok sostok sostok sostok sostok sostok sostok sostok sostok sostok sostok sostok sostok sostok sostok sostok sostok sostok sostok\n",
            "\n",
            "\n",
            "Original Article: formula one great german grand prix sport tradition money number european races german schedule financial problems head could future iconic italian grand prix race doubt due circuit would host race shared recent seasons races started move away europe towards middle east celebrates winning last year german schedule officials concern time running race scheduled take place weekend july short statement said agreement could reached rights german grand prix reach agreement statement said decision means season races three week break british grand prix july grand prix july former three time world champion wants europe races remain races heading middle east three time world champion says always place races germany italy britain france monaco helped become today told sportsmail going new countries still respect able future italian grand prix \n",
            "Original summary: place \n",
            "1/1 [==============================] - 0s 336ms/step\n",
            "1/1 [==============================] - 0s 22ms/step\n",
            "1/1 [==============================] - 0s 22ms/step\n",
            "1/1 [==============================] - 0s 22ms/step\n",
            "1/1 [==============================] - 0s 22ms/step\n",
            "1/1 [==============================] - 0s 22ms/step\n",
            "1/1 [==============================] - 0s 21ms/step\n",
            "1/1 [==============================] - 0s 23ms/step\n",
            "1/1 [==============================] - 0s 23ms/step\n",
            "1/1 [==============================] - 0s 22ms/step\n",
            "1/1 [==============================] - 0s 22ms/step\n",
            "1/1 [==============================] - 0s 24ms/step\n",
            "1/1 [==============================] - 0s 25ms/step\n",
            "1/1 [==============================] - 0s 22ms/step\n",
            "1/1 [==============================] - 0s 23ms/step\n",
            "1/1 [==============================] - 0s 21ms/step\n",
            "1/1 [==============================] - 0s 26ms/step\n",
            "1/1 [==============================] - 0s 24ms/step\n",
            "1/1 [==============================] - 0s 21ms/step\n",
            "1/1 [==============================] - 0s 21ms/step\n",
            "1/1 [==============================] - 0s 21ms/step\n",
            "1/1 [==============================] - 0s 20ms/step\n",
            "1/1 [==============================] - 0s 21ms/step\n",
            "1/1 [==============================] - 0s 21ms/step\n",
            "1/1 [==============================] - 0s 23ms/step\n",
            "1/1 [==============================] - 0s 24ms/step\n",
            "1/1 [==============================] - 0s 21ms/step\n",
            "1/1 [==============================] - 0s 20ms/step\n",
            "1/1 [==============================] - 0s 23ms/step\n",
            "1/1 [==============================] - 0s 21ms/step\n",
            "1/1 [==============================] - 0s 20ms/step\n",
            "1/1 [==============================] - 0s 21ms/step\n",
            "1/1 [==============================] - 0s 22ms/step\n",
            "1/1 [==============================] - 0s 23ms/step\n",
            "1/1 [==============================] - 0s 20ms/step\n",
            "1/1 [==============================] - 0s 34ms/step\n",
            "1/1 [==============================] - 0s 23ms/step\n",
            "1/1 [==============================] - 0s 23ms/step\n",
            "1/1 [==============================] - 0s 21ms/step\n",
            "1/1 [==============================] - 0s 24ms/step\n",
            "1/1 [==============================] - 0s 22ms/step\n",
            "1/1 [==============================] - 0s 21ms/step\n",
            "1/1 [==============================] - 0s 21ms/step\n",
            "1/1 [==============================] - 0s 22ms/step\n",
            "1/1 [==============================] - 0s 21ms/step\n",
            "1/1 [==============================] - 0s 21ms/step\n",
            "1/1 [==============================] - 0s 20ms/step\n",
            "1/1 [==============================] - 0s 24ms/step\n",
            "1/1 [==============================] - 0s 23ms/step\n",
            "1/1 [==============================] - 0s 20ms/step\n",
            "Predicted summary:  year manchester manchester manchester manchester manchester manchester manchester manchester sostok sostok sostok sostok sostok sostok sostok sostok sostok sostok sostok sostok sostok sostok sostok sostok sostok sostok sostok sostok sostok sostok sostok sostok sostok sostok sostok sostok sostok sostok sostok sostok sostok sostok sostok sostok sostok sostok sostok sostok\n",
            "\n",
            "\n",
            "Original Article: year old man arrested suspicion friend nine year old brother death northern california town jordan stabbed neck dead family drove john hospital deputies put alert said got away truck outside home william arrested sunday afternoon hours jordan stabbed death home discovery bay arrested hospital county sheriff spokesman lee said saw media case wanted suspect officials say treated remains investigation day deputies also called home saturday request deputies told police radio victim stabbed neck reports san francisco day deputies also called home request neighbors say five children lived believed may friends one older reports abc county sheriff said attack times reports occurred school younger boy attended county sheriff said attack act came home murdered child family friend told san francisco little guy team said little league coach told great smile positive way everybody came contact discovery bay community along san river delta \n",
            "Original summary: arrested sunday hours death home said day also called home \n",
            "1/1 [==============================] - 0s 198ms/step\n",
            "1/1 [==============================] - 0s 27ms/step\n",
            "1/1 [==============================] - 0s 23ms/step\n",
            "1/1 [==============================] - 0s 24ms/step\n",
            "1/1 [==============================] - 0s 21ms/step\n",
            "1/1 [==============================] - 0s 22ms/step\n",
            "1/1 [==============================] - 0s 22ms/step\n",
            "1/1 [==============================] - 0s 23ms/step\n",
            "1/1 [==============================] - 0s 22ms/step\n",
            "1/1 [==============================] - 0s 24ms/step\n",
            "1/1 [==============================] - 0s 21ms/step\n",
            "1/1 [==============================] - 0s 22ms/step\n",
            "1/1 [==============================] - 0s 22ms/step\n",
            "1/1 [==============================] - 0s 26ms/step\n",
            "1/1 [==============================] - 0s 21ms/step\n",
            "1/1 [==============================] - 0s 22ms/step\n",
            "1/1 [==============================] - 0s 21ms/step\n",
            "1/1 [==============================] - 0s 27ms/step\n",
            "1/1 [==============================] - 0s 23ms/step\n",
            "1/1 [==============================] - 0s 22ms/step\n",
            "1/1 [==============================] - 0s 21ms/step\n",
            "1/1 [==============================] - 0s 22ms/step\n",
            "1/1 [==============================] - 0s 21ms/step\n",
            "1/1 [==============================] - 0s 25ms/step\n",
            "1/1 [==============================] - 0s 29ms/step\n",
            "1/1 [==============================] - 0s 24ms/step\n",
            "1/1 [==============================] - 0s 21ms/step\n",
            "1/1 [==============================] - 0s 26ms/step\n",
            "1/1 [==============================] - 0s 29ms/step\n",
            "1/1 [==============================] - 0s 26ms/step\n",
            "1/1 [==============================] - 0s 23ms/step\n",
            "1/1 [==============================] - 0s 23ms/step\n",
            "1/1 [==============================] - 0s 22ms/step\n",
            "1/1 [==============================] - 0s 21ms/step\n",
            "1/1 [==============================] - 0s 24ms/step\n",
            "1/1 [==============================] - 0s 26ms/step\n",
            "1/1 [==============================] - 0s 25ms/step\n",
            "1/1 [==============================] - 0s 23ms/step\n",
            "1/1 [==============================] - 0s 26ms/step\n",
            "1/1 [==============================] - 0s 29ms/step\n",
            "1/1 [==============================] - 0s 21ms/step\n",
            "1/1 [==============================] - 0s 20ms/step\n",
            "1/1 [==============================] - 0s 23ms/step\n",
            "1/1 [==============================] - 0s 22ms/step\n",
            "1/1 [==============================] - 0s 23ms/step\n",
            "1/1 [==============================] - 0s 21ms/step\n",
            "1/1 [==============================] - 0s 22ms/step\n",
            "1/1 [==============================] - 0s 22ms/step\n",
            "1/1 [==============================] - 0s 21ms/step\n",
            "1/1 [==============================] - 0s 24ms/step\n",
            "Predicted summary:  year manchester manchester manchester manchester manchester manchester manchester manchester sostok sostok sostok sostok sostok sostok sostok sostok sostok sostok sostok sostok sostok sostok sostok sostok sostok sostok sostok sostok sostok sostok sostok sostok sostok sostok sostok sostok sostok sostok sostok sostok sostok sostok sostok sostok sostok sostok sostok sostok\n",
            "\n",
            "\n",
            "Original Article: dog saturday deadly hit thursday owner wife died thought dog suffered partner spotted worker police called reported scroll video dog saturday deadly hit thursday killed wife destroyed debris lay around morning struck town nbc reports ran miles grandson able catch first disappeared family created facebook page called search want thank everyone shared posts happy home help thank help search family wrote saturday luckily found family granted people still hunting missing post facebook page pet recovery call national disaster animal response recovery teams pet never would losing love two died cars home friday fox reports destroyed homes took two lives look window looking right back window said left destroyed home thursday made discovery wife survive said look said said wife dead said felt told wanted get something leave behind knew anything could said wife strong woman also died close friends nearly said family ran miles grandson able catch \n",
            "Original summary: died thursday dog two found two found could \n",
            "1/1 [==============================] - 0s 201ms/step\n",
            "1/1 [==============================] - 0s 21ms/step\n",
            "1/1 [==============================] - 0s 21ms/step\n",
            "1/1 [==============================] - 0s 24ms/step\n",
            "1/1 [==============================] - 0s 21ms/step\n",
            "1/1 [==============================] - 0s 22ms/step\n",
            "1/1 [==============================] - 0s 22ms/step\n",
            "1/1 [==============================] - 0s 22ms/step\n",
            "1/1 [==============================] - 0s 22ms/step\n",
            "1/1 [==============================] - 0s 32ms/step\n",
            "1/1 [==============================] - 0s 25ms/step\n",
            "1/1 [==============================] - 0s 25ms/step\n",
            "1/1 [==============================] - 0s 23ms/step\n",
            "1/1 [==============================] - 0s 27ms/step\n",
            "1/1 [==============================] - 0s 30ms/step\n",
            "1/1 [==============================] - 0s 21ms/step\n",
            "1/1 [==============================] - 0s 23ms/step\n",
            "1/1 [==============================] - 0s 20ms/step\n",
            "1/1 [==============================] - 0s 23ms/step\n",
            "1/1 [==============================] - 0s 23ms/step\n",
            "1/1 [==============================] - 0s 22ms/step\n",
            "1/1 [==============================] - 0s 20ms/step\n",
            "1/1 [==============================] - 0s 20ms/step\n",
            "1/1 [==============================] - 0s 20ms/step\n",
            "1/1 [==============================] - 0s 29ms/step\n",
            "1/1 [==============================] - 0s 22ms/step\n",
            "1/1 [==============================] - 0s 24ms/step\n",
            "1/1 [==============================] - 0s 23ms/step\n",
            "1/1 [==============================] - 0s 33ms/step\n",
            "1/1 [==============================] - 0s 21ms/step\n",
            "1/1 [==============================] - 0s 24ms/step\n",
            "1/1 [==============================] - 0s 22ms/step\n",
            "1/1 [==============================] - 0s 43ms/step\n",
            "1/1 [==============================] - 0s 35ms/step\n",
            "1/1 [==============================] - 0s 32ms/step\n",
            "1/1 [==============================] - 0s 33ms/step\n",
            "1/1 [==============================] - 0s 30ms/step\n",
            "1/1 [==============================] - 0s 34ms/step\n",
            "1/1 [==============================] - 0s 33ms/step\n",
            "1/1 [==============================] - 0s 33ms/step\n",
            "1/1 [==============================] - 0s 38ms/step\n",
            "1/1 [==============================] - 0s 33ms/step\n",
            "1/1 [==============================] - 0s 33ms/step\n",
            "1/1 [==============================] - 0s 33ms/step\n",
            "1/1 [==============================] - 0s 40ms/step\n",
            "1/1 [==============================] - 0s 32ms/step\n",
            "1/1 [==============================] - 0s 30ms/step\n",
            "1/1 [==============================] - 0s 40ms/step\n",
            "1/1 [==============================] - 0s 34ms/step\n",
            "1/1 [==============================] - 0s 35ms/step\n",
            "Predicted summary:  year manchester manchester manchester manchester manchester manchester manchester manchester sostok sostok sostok sostok sostok sostok sostok sostok sostok sostok sostok sostok sostok sostok sostok sostok sostok sostok sostok sostok sostok sostok sostok sostok sostok sostok sostok sostok sostok sostok sostok sostok sostok sostok sostok sostok sostok sostok sostok sostok\n",
            "\n",
            "\n"
          ]
        }
      ]
    },
    {
      "cell_type": "markdown",
      "source": [
        "#ROUGE METRICS\n",
        "Recall-Oriented Understudy for Gisting Evaluation (ROUGE)\n",
        "\n",
        "here i am using the rouge metrics to evaluate my model"
      ],
      "metadata": {
        "id": "3XeDBBLyrlbY"
      }
    },
    {
      "cell_type": "code",
      "source": [
        "!pip install rouge\n",
        "from rouge import Rouge \n",
        "ROUGE=Rouge()\n",
        "\n",
        "temp1 = seq2summary(y_val[0])\n",
        "temp2 = decode_sequence(x_val[0].reshape(1,max_text_len))\n",
        "ROUGE.get_scores(temp2, temp1, avg=True)"
      ],
      "metadata": {
        "colab": {
          "base_uri": "https://localhost:8080/"
        },
        "id": "Qi_sqdLMrZUj",
        "outputId": "f739ea8d-491e-45bf-ac26-b28928e55bdc"
      },
      "execution_count": null,
      "outputs": [
        {
          "output_type": "stream",
          "name": "stdout",
          "text": [
            "Looking in indexes: https://pypi.org/simple, https://us-python.pkg.dev/colab-wheels/public/simple/\n",
            "Requirement already satisfied: rouge in /usr/local/lib/python3.10/dist-packages (1.0.1)\n",
            "Requirement already satisfied: six in /usr/local/lib/python3.10/dist-packages (from rouge) (1.16.0)\n",
            "1/1 [==============================] - 0s 204ms/step\n",
            "1/1 [==============================] - 0s 24ms/step\n",
            "1/1 [==============================] - 0s 22ms/step\n",
            "1/1 [==============================] - 0s 24ms/step\n",
            "1/1 [==============================] - 0s 26ms/step\n",
            "1/1 [==============================] - 0s 24ms/step\n",
            "1/1 [==============================] - 0s 22ms/step\n",
            "1/1 [==============================] - 0s 21ms/step\n",
            "1/1 [==============================] - 0s 21ms/step\n",
            "1/1 [==============================] - 0s 23ms/step\n",
            "1/1 [==============================] - 0s 24ms/step\n",
            "1/1 [==============================] - 0s 25ms/step\n",
            "1/1 [==============================] - 0s 22ms/step\n",
            "1/1 [==============================] - 0s 23ms/step\n",
            "1/1 [==============================] - 0s 20ms/step\n",
            "1/1 [==============================] - 0s 23ms/step\n",
            "1/1 [==============================] - 0s 23ms/step\n",
            "1/1 [==============================] - 0s 21ms/step\n",
            "1/1 [==============================] - 0s 23ms/step\n",
            "1/1 [==============================] - 0s 24ms/step\n",
            "1/1 [==============================] - 0s 23ms/step\n",
            "1/1 [==============================] - 0s 21ms/step\n",
            "1/1 [==============================] - 0s 21ms/step\n",
            "1/1 [==============================] - 0s 21ms/step\n",
            "1/1 [==============================] - 0s 25ms/step\n",
            "1/1 [==============================] - 0s 22ms/step\n",
            "1/1 [==============================] - 0s 27ms/step\n",
            "1/1 [==============================] - 0s 22ms/step\n",
            "1/1 [==============================] - 0s 22ms/step\n",
            "1/1 [==============================] - 0s 20ms/step\n",
            "1/1 [==============================] - 0s 20ms/step\n",
            "1/1 [==============================] - 0s 22ms/step\n",
            "1/1 [==============================] - 0s 24ms/step\n",
            "1/1 [==============================] - 0s 30ms/step\n",
            "1/1 [==============================] - 0s 24ms/step\n",
            "1/1 [==============================] - 0s 22ms/step\n",
            "1/1 [==============================] - 0s 23ms/step\n",
            "1/1 [==============================] - 0s 23ms/step\n",
            "1/1 [==============================] - 0s 24ms/step\n",
            "1/1 [==============================] - 0s 24ms/step\n",
            "1/1 [==============================] - 0s 29ms/step\n",
            "1/1 [==============================] - 0s 23ms/step\n",
            "1/1 [==============================] - 0s 23ms/step\n",
            "1/1 [==============================] - 0s 24ms/step\n",
            "1/1 [==============================] - 0s 25ms/step\n",
            "1/1 [==============================] - 0s 24ms/step\n",
            "1/1 [==============================] - 0s 24ms/step\n",
            "1/1 [==============================] - 0s 24ms/step\n",
            "1/1 [==============================] - 0s 23ms/step\n",
            "1/1 [==============================] - 0s 23ms/step\n"
          ]
        },
        {
          "output_type": "execute_result",
          "data": {
            "text/plain": [
              "{'rouge-1': {'r': 0.0, 'p': 0.0, 'f': 0.0},\n",
              " 'rouge-2': {'r': 0.0, 'p': 0.0, 'f': 0.0},\n",
              " 'rouge-l': {'r': 0.0, 'p': 0.0, 'f': 0.0}}"
            ]
          },
          "metadata": {},
          "execution_count": 134
        }
      ]
    },
    {
      "cell_type": "markdown",
      "source": [
        "my model is underperforming and i suspect it may be due to the sheer size of the data set i am using or some issue with the embeddings i have tried a lot of ways to come up with ways to to improve the mode but i have not recieved any significant improvement"
      ],
      "metadata": {
        "id": "wEpZnIU1oWZm"
      }
    }
  ]
}